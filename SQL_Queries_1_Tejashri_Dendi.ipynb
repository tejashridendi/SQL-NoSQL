{
  "nbformat": 4,
  "nbformat_minor": 0,
  "metadata": {
    "colab": {
      "provenance": []
    },
    "kernelspec": {
      "name": "python3",
      "display_name": "Python 3"
    },
    "language_info": {
      "name": "python"
    }
  },
  "cells": [
    {
      "cell_type": "markdown",
      "source": [
        "\n",
        "\n",
        
        "\n",
        
        "\n",
        "<h3 align=\"center\">\n",
        "    Name: Tejashri Dendi\n",
        "</h3>\n"
      ],
      "metadata": {
        "id": "tt70feOIfcQ0"
      }
    },
    {
      "cell_type": "markdown",
      "source": [
        "\n",
        "\n",
        "**Project Description:**\n",
        "\n",
        "To work with the New York City Airbnb dataset in this project, we need to create and connect to an SQLite database\n",
        "\n",
        "\n",
        "\n",
        "**Dataset**\n",
        "- You can find the New York City Airbnb dataset on Kaggle: [New York City Airbnb Dataset](https://www.kaggle.com/datasets/dgomonov/new-york-city-airbnb-open-data)\n",
        "- Download the dataset from the provided link and save it as 'AB_NYC_2019.csv' on your computer.\n",
        "- On Google Colab, click on the \"Upload\" button and select the 'AB_NYC_2019.csv' file from your local computer."
      ],
      "metadata": {
        "id": "35fgH_hXgAUU"
      }
    },
    {
      "cell_type": "code",
      "source": [
        "! pip install kaggle\n",
        "! mkdir ~/.kaggle\n",
        "from google.colab import files\n",
        "uploaded = files.upload()\n"
      ],
      "metadata": {
        "colab": {
          "base_uri": "https://localhost:8080/",
          "height": 316
        },
        "id": "eWZyp7hEqp_4",
        "outputId": "31436606-1629-4cbe-c0da-d81565ba0d9c"
      },
      "execution_count": 34,
      "outputs": [
        {
          "output_type": "stream",
          "name": "stdout",
          "text": [
            "Requirement already satisfied: kaggle in /usr/local/lib/python3.10/dist-packages (1.6.17)\n",
            "Requirement already satisfied: six>=1.10 in /usr/local/lib/python3.10/dist-packages (from kaggle) (1.16.0)\n",
            "Requirement already satisfied: certifi>=2023.7.22 in /usr/local/lib/python3.10/dist-packages (from kaggle) (2024.7.4)\n",
            "Requirement already satisfied: python-dateutil in /usr/local/lib/python3.10/dist-packages (from kaggle) (2.8.2)\n",
            "Requirement already satisfied: requests in /usr/local/lib/python3.10/dist-packages (from kaggle) (2.31.0)\n",
            "Requirement already satisfied: tqdm in /usr/local/lib/python3.10/dist-packages (from kaggle) (4.66.4)\n",
            "Requirement already satisfied: python-slugify in /usr/local/lib/python3.10/dist-packages (from kaggle) (8.0.4)\n",
            "Requirement already satisfied: urllib3 in /usr/local/lib/python3.10/dist-packages (from kaggle) (2.0.7)\n",
            "Requirement already satisfied: bleach in /usr/local/lib/python3.10/dist-packages (from kaggle) (6.1.0)\n",
            "Requirement already satisfied: webencodings in /usr/local/lib/python3.10/dist-packages (from bleach->kaggle) (0.5.1)\n",
            "Requirement already satisfied: text-unidecode>=1.3 in /usr/local/lib/python3.10/dist-packages (from python-slugify->kaggle) (1.3)\n",
            "Requirement already satisfied: charset-normalizer<4,>=2 in /usr/local/lib/python3.10/dist-packages (from requests->kaggle) (3.3.2)\n",
            "Requirement already satisfied: idna<4,>=2.5 in /usr/local/lib/python3.10/dist-packages (from requests->kaggle) (3.7)\n",
            "mkdir: cannot create directory ‘/root/.kaggle’: File exists\n"
          ]
        },
        {
          "output_type": "display_data",
          "data": {
            "text/plain": [
              "<IPython.core.display.HTML object>"
            ],
            "text/html": [
              "\n",
              "     <input type=\"file\" id=\"files-052c593e-a86f-4866-9cd1-1ed174e537f8\" name=\"files[]\" multiple disabled\n",
              "        style=\"border:none\" />\n",
              "     <output id=\"result-052c593e-a86f-4866-9cd1-1ed174e537f8\">\n",
              "      Upload widget is only available when the cell has been executed in the\n",
              "      current browser session. Please rerun this cell to enable.\n",
              "      </output>\n",
              "      <script>// Copyright 2017 Google LLC\n",
              "//\n",
              "// Licensed under the Apache License, Version 2.0 (the \"License\");\n",
              "// you may not use this file except in compliance with the License.\n",
              "// You may obtain a copy of the License at\n",
              "//\n",
              "//      http://www.apache.org/licenses/LICENSE-2.0\n",
              "//\n",
              "// Unless required by applicable law or agreed to in writing, software\n",
              "// distributed under the License is distributed on an \"AS IS\" BASIS,\n",
              "// WITHOUT WARRANTIES OR CONDITIONS OF ANY KIND, either express or implied.\n",
              "// See the License for the specific language governing permissions and\n",
              "// limitations under the License.\n",
              "\n",
              "/**\n",
              " * @fileoverview Helpers for google.colab Python module.\n",
              " */\n",
              "(function(scope) {\n",
              "function span(text, styleAttributes = {}) {\n",
              "  const element = document.createElement('span');\n",
              "  element.textContent = text;\n",
              "  for (const key of Object.keys(styleAttributes)) {\n",
              "    element.style[key] = styleAttributes[key];\n",
              "  }\n",
              "  return element;\n",
              "}\n",
              "\n",
              "// Max number of bytes which will be uploaded at a time.\n",
              "const MAX_PAYLOAD_SIZE = 100 * 1024;\n",
              "\n",
              "function _uploadFiles(inputId, outputId) {\n",
              "  const steps = uploadFilesStep(inputId, outputId);\n",
              "  const outputElement = document.getElementById(outputId);\n",
              "  // Cache steps on the outputElement to make it available for the next call\n",
              "  // to uploadFilesContinue from Python.\n",
              "  outputElement.steps = steps;\n",
              "\n",
              "  return _uploadFilesContinue(outputId);\n",
              "}\n",
              "\n",
              "// This is roughly an async generator (not supported in the browser yet),\n",
              "// where there are multiple asynchronous steps and the Python side is going\n",
              "// to poll for completion of each step.\n",
              "// This uses a Promise to block the python side on completion of each step,\n",
              "// then passes the result of the previous step as the input to the next step.\n",
              "function _uploadFilesContinue(outputId) {\n",
              "  const outputElement = document.getElementById(outputId);\n",
              "  const steps = outputElement.steps;\n",
              "\n",
              "  const next = steps.next(outputElement.lastPromiseValue);\n",
              "  return Promise.resolve(next.value.promise).then((value) => {\n",
              "    // Cache the last promise value to make it available to the next\n",
              "    // step of the generator.\n",
              "    outputElement.lastPromiseValue = value;\n",
              "    return next.value.response;\n",
              "  });\n",
              "}\n",
              "\n",
              "/**\n",
              " * Generator function which is called between each async step of the upload\n",
              " * process.\n",
              " * @param {string} inputId Element ID of the input file picker element.\n",
              " * @param {string} outputId Element ID of the output display.\n",
              " * @return {!Iterable<!Object>} Iterable of next steps.\n",
              " */\n",
              "function* uploadFilesStep(inputId, outputId) {\n",
              "  const inputElement = document.getElementById(inputId);\n",
              "  inputElement.disabled = false;\n",
              "\n",
              "  const outputElement = document.getElementById(outputId);\n",
              "  outputElement.innerHTML = '';\n",
              "\n",
              "  const pickedPromise = new Promise((resolve) => {\n",
              "    inputElement.addEventListener('change', (e) => {\n",
              "      resolve(e.target.files);\n",
              "    });\n",
              "  });\n",
              "\n",
              "  const cancel = document.createElement('button');\n",
              "  inputElement.parentElement.appendChild(cancel);\n",
              "  cancel.textContent = 'Cancel upload';\n",
              "  const cancelPromise = new Promise((resolve) => {\n",
              "    cancel.onclick = () => {\n",
              "      resolve(null);\n",
              "    };\n",
              "  });\n",
              "\n",
              "  // Wait for the user to pick the files.\n",
              "  const files = yield {\n",
              "    promise: Promise.race([pickedPromise, cancelPromise]),\n",
              "    response: {\n",
              "      action: 'starting',\n",
              "    }\n",
              "  };\n",
              "\n",
              "  cancel.remove();\n",
              "\n",
              "  // Disable the input element since further picks are not allowed.\n",
              "  inputElement.disabled = true;\n",
              "\n",
              "  if (!files) {\n",
              "    return {\n",
              "      response: {\n",
              "        action: 'complete',\n",
              "      }\n",
              "    };\n",
              "  }\n",
              "\n",
              "  for (const file of files) {\n",
              "    const li = document.createElement('li');\n",
              "    li.append(span(file.name, {fontWeight: 'bold'}));\n",
              "    li.append(span(\n",
              "        `(${file.type || 'n/a'}) - ${file.size} bytes, ` +\n",
              "        `last modified: ${\n",
              "            file.lastModifiedDate ? file.lastModifiedDate.toLocaleDateString() :\n",
              "                                    'n/a'} - `));\n",
              "    const percent = span('0% done');\n",
              "    li.appendChild(percent);\n",
              "\n",
              "    outputElement.appendChild(li);\n",
              "\n",
              "    const fileDataPromise = new Promise((resolve) => {\n",
              "      const reader = new FileReader();\n",
              "      reader.onload = (e) => {\n",
              "        resolve(e.target.result);\n",
              "      };\n",
              "      reader.readAsArrayBuffer(file);\n",
              "    });\n",
              "    // Wait for the data to be ready.\n",
              "    let fileData = yield {\n",
              "      promise: fileDataPromise,\n",
              "      response: {\n",
              "        action: 'continue',\n",
              "      }\n",
              "    };\n",
              "\n",
              "    // Use a chunked sending to avoid message size limits. See b/62115660.\n",
              "    let position = 0;\n",
              "    do {\n",
              "      const length = Math.min(fileData.byteLength - position, MAX_PAYLOAD_SIZE);\n",
              "      const chunk = new Uint8Array(fileData, position, length);\n",
              "      position += length;\n",
              "\n",
              "      const base64 = btoa(String.fromCharCode.apply(null, chunk));\n",
              "      yield {\n",
              "        response: {\n",
              "          action: 'append',\n",
              "          file: file.name,\n",
              "          data: base64,\n",
              "        },\n",
              "      };\n",
              "\n",
              "      let percentDone = fileData.byteLength === 0 ?\n",
              "          100 :\n",
              "          Math.round((position / fileData.byteLength) * 100);\n",
              "      percent.textContent = `${percentDone}% done`;\n",
              "\n",
              "    } while (position < fileData.byteLength);\n",
              "  }\n",
              "\n",
              "  // All done.\n",
              "  yield {\n",
              "    response: {\n",
              "      action: 'complete',\n",
              "    }\n",
              "  };\n",
              "}\n",
              "\n",
              "scope.google = scope.google || {};\n",
              "scope.google.colab = scope.google.colab || {};\n",
              "scope.google.colab._files = {\n",
              "  _uploadFiles,\n",
              "  _uploadFilesContinue,\n",
              "};\n",
              "})(self);\n",
              "</script> "
            ]
          },
          "metadata": {}
        },
        {
          "output_type": "stream",
          "name": "stdout",
          "text": [
            "Saving kaggle.json to kaggle (1).json\n"
          ]
        }
      ]
    },
    {
      "cell_type": "markdown",
      "source": [
        "Download the dataset from the provided link and save it as 'AB_NYC_2019.csv' on your computer."
      ],
      "metadata": {
        "id": "T8lXVNiYq9mV"
      }
    },
    {
      "cell_type": "code",
      "source": [
        "!kaggle datasets download -d dgomonov/new-york-city-airbnb-open-data"
      ],
      "metadata": {
        "colab": {
          "base_uri": "https://localhost:8080/"
        },
        "id": "Ga3YCMAaq7Dk",
        "outputId": "bc87859c-5c56-411d-daca-5f681e2eebb1"
      },
      "execution_count": 35,
      "outputs": [
        {
          "output_type": "stream",
          "name": "stdout",
          "text": [
            "Dataset URL: https://www.kaggle.com/datasets/dgomonov/new-york-city-airbnb-open-data\n",
            "License(s): CC0-1.0\n",
            "new-york-city-airbnb-open-data.zip: Skipping, found more recently modified local copy (use --force to force download)\n"
          ]
        }
      ]
    },
    {
      "cell_type": "code",
      "source": [
        "!unzip /content/new-york-city-airbnb-open-data.zip"
      ],
      "metadata": {
        "colab": {
          "base_uri": "https://localhost:8080/"
        },
        "id": "p50_-Q1yrSB7",
        "outputId": "adc7c1ac-adbe-41ab-b333-8153efb1348b"
      },
      "execution_count": 56,
      "outputs": [
        {
          "output_type": "stream",
          "name": "stdout",
          "text": [
            "Archive:  /content/new-york-city-airbnb-open-data.zip\n",
            "replace AB_NYC_2019.csv? [y]es, [n]o, [A]ll, [N]one, [r]ename: y\n",
            "  inflating: AB_NYC_2019.csv         \n",
            "replace New_York_City_.png? [y]es, [n]o, [A]ll, [N]one, [r]ename: yes\n",
            "  inflating: New_York_City_.png      \n"
          ]
        }
      ]
    },
    {
      "cell_type": "markdown",
      "source": [
        "## Introduction\n",
        "This SQL project  uses a real-world dataset- NewYork City Airbnb dataset  basic data analysis tasks can be performed.\n",
        "## Table of Contents\n",
        "1. [Libraries and Database Setup](#database-setup)\n",
        "2. [Loading the Dataset](#loading-dataset)\n",
        "3. [SQL Queries](#sql-queries)\n",
        "4. [Closing Connection](#closing-connection)\n",
        "5. [Summary of Basic SQL Commands](#summary-commands)\n",
        "\n",
        "# Section 1: Libraries and Database Setup <a name=\"database-setup\"></a>\n",
        "\n",
        "###  1.1: Import Libraries\n",
        "Let's start by importing the necessary libraries.\n"
      ],
      "metadata": {
        "id": "I4xHzjkqigQk"
      }
    },
    {
      "cell_type": "code",
      "source": [
        "import pandas as pd\n",
        "import numpy as np\n",
        "import sqlite3"
      ],
      "metadata": {
        "id": "NnR6oXHNG6Ff"
      },
      "execution_count": 37,
      "outputs": []
    },
    {
      "cell_type": "markdown",
      "source": [
        "###  1.2: Connect to the Database\n",
        "\n",
        "Next, establish a connection to the SQLite database named 'airbnb.db'.\n",
        "Use the sqlite3 library to create a connection object and store it in a variable called 'conn'.\n"
      ],
      "metadata": {
        "id": "qSERoLykixcz"
      }
    },
    {
      "cell_type": "code",
      "source": [
        "# Completed\n",
        "# Connect to the SQLite database\n",
        "conn = sqlite3.connect('airbnb.db')"
      ],
      "metadata": {
        "id": "8G9tDLd2iyq7"
      },
      "execution_count": 38,
      "outputs": []
    },
    {
      "cell_type": "markdown",
      "source": [
        "# Section 2: Loading the Dataset <a name=\"loading-dataset\"></a>"
      ],
      "metadata": {
        "id": "gCE_OEk5BrF2"
      }
    },
    {
      "cell_type": "markdown",
      "source": [
        "###  2.1: Load the Dataset\n",
        "- We will work with the 'listings' table from the New York City Airbnb dataset.\n",
        "- Load the dataset from the CSV file 'AB_NYC_2019.csv' into a DataFrame named 'df'.\n",
        "- Then, import the DataFrame into the 'listings' table in the database using the to_sql() method.\n",
        "\n",
        "\n"
      ],
      "metadata": {
        "id": "_bXjXLHli0aE"
      }
    },
    {
      "cell_type": "code",
      "source": [
        "\n",
        "data_path =\"/content/AB_NYC_2019.csv\"\n",
        "df = pd.read_csv(data_path)\n",
        "\n",
        "\n",
        "df.to_sql('listings', conn, if_exists='replace', index=False)"
      ],
      "metadata": {
        "id": "blwNI_PEi5FT",
        "colab": {
          "base_uri": "https://localhost:8080/"
        },
        "outputId": "88a23afd-d550-4872-f251-de6d974c6dc2"
      },
      "execution_count": 39,
      "outputs": [
        {
          "output_type": "execute_result",
          "data": {
            "text/plain": [
              "48895"
            ]
          },
          "metadata": {},
          "execution_count": 39
        }
      ]
    },
    {
      "cell_type": "markdown",
      "source": [
        "# Section 3: SQL Queries <a name=\"sql-queries\"></a>\n",
        "\n",
        "Query the database: Write SQL queries to analyze the data in the SQLite database. You can use the sqlite3 library to execute the queries and fetch the results."
      ],
      "metadata": {
        "id": "1j3xgaK4Ck3S"
      }
    },
    {
      "cell_type": "markdown",
      "source": [
        "###  3.1: Retrieve all Columns\n",
        "-  an SQL query to retrieve all columns from the 'listings' table.\n",
        "- Execute the query and display the first 10 rows of the result\n",
        "\n",
        "Hint: Use SELECTION to select entries from a specified table."
      ],
      "metadata": {
        "id": "eKaLdB8Fi7Bh"
      }
    },
    {
      "cell_type": "code",
      "source": [
        "cursor = conn.cursor()\n",
        "\n",
        "# TODO: Execute an SQL query using the cursor.execute() method to retrieve all columns from listings (don't forget the trailing ';' to finish a query)\n",
        "cursor.execute(\"select * from listings;\")\n",
        "\n",
        "# Completed\n",
        "# Fetch all the results using fetchall()\n",
        "results = cursor.fetchall()"
      ],
      "metadata": {
        "id": "gqe3KmtUCr9V"
      },
      "execution_count": 40,
      "outputs": []
    },
    {
      "cell_type": "code",
      "source": [
        "type(results)"
      ],
      "metadata": {
        "colab": {
          "base_uri": "https://localhost:8080/"
        },
        "id": "v-qZ4bsjsdAx",
        "outputId": "c3b54825-e409-4cc6-993d-939836398f7a"
      },
      "execution_count": 41,
      "outputs": [
        {
          "output_type": "execute_result",
          "data": {
            "text/plain": [
              "list"
            ]
          },
          "metadata": {},
          "execution_count": 41
        }
      ]
    },
    {
      "cell_type": "code",
      "source": [
        "results[0]"
      ],
      "metadata": {
        "colab": {
          "base_uri": "https://localhost:8080/"
        },
        "id": "EgZt7U4msqMK",
        "outputId": "bde1a1a1-57eb-48d9-95de-b6a8339c0795"
      },
      "execution_count": 42,
      "outputs": [
        {
          "output_type": "execute_result",
          "data": {
            "text/plain": [
              "(2539,\n",
              " 'Clean & quiet apt home by the park',\n",
              " 2787,\n",
              " 'John',\n",
              " 'Brooklyn',\n",
              " 'Kensington',\n",
              " 40.64749,\n",
              " -73.97237,\n",
              " 'Private room',\n",
              " 149,\n",
              " 1,\n",
              " 9,\n",
              " '2018-10-19',\n",
              " 0.21,\n",
              " 6,\n",
              " 365)"
            ]
          },
          "metadata": {},
          "execution_count": 42
        }
      ]
    },
    {
      "cell_type": "code",
      "source": [
        "#  Display the first 10 rows\n",
        "for i, row in enumerate(results[:10]):\n",
        "    print(row)"
      ],
      "metadata": {
        "id": "9ZqFoSV6C5cH",
        "colab": {
          "base_uri": "https://localhost:8080/"
        },
        "outputId": "31b765d7-ecd1-4361-9af2-f18f8ef7b389"
      },
      "execution_count": 43,
      "outputs": [
        {
          "output_type": "stream",
          "name": "stdout",
          "text": [
            "(2539, 'Clean & quiet apt home by the park', 2787, 'John', 'Brooklyn', 'Kensington', 40.64749, -73.97237, 'Private room', 149, 1, 9, '2018-10-19', 0.21, 6, 365)\n",
            "(2595, 'Skylit Midtown Castle', 2845, 'Jennifer', 'Manhattan', 'Midtown', 40.75362, -73.98377, 'Entire home/apt', 225, 1, 45, '2019-05-21', 0.38, 2, 355)\n",
            "(3647, 'THE VILLAGE OF HARLEM....NEW YORK !', 4632, 'Elisabeth', 'Manhattan', 'Harlem', 40.80902, -73.9419, 'Private room', 150, 3, 0, None, None, 1, 365)\n",
            "(3831, 'Cozy Entire Floor of Brownstone', 4869, 'LisaRoxanne', 'Brooklyn', 'Clinton Hill', 40.68514, -73.95976, 'Entire home/apt', 89, 1, 270, '2019-07-05', 4.64, 1, 194)\n",
            "(5022, 'Entire Apt: Spacious Studio/Loft by central park', 7192, 'Laura', 'Manhattan', 'East Harlem', 40.79851, -73.94399, 'Entire home/apt', 80, 10, 9, '2018-11-19', 0.1, 1, 0)\n",
            "(5099, 'Large Cozy 1 BR Apartment In Midtown East', 7322, 'Chris', 'Manhattan', 'Murray Hill', 40.74767, -73.975, 'Entire home/apt', 200, 3, 74, '2019-06-22', 0.59, 1, 129)\n",
            "(5121, 'BlissArtsSpace!', 7356, 'Garon', 'Brooklyn', 'Bedford-Stuyvesant', 40.68688, -73.95596, 'Private room', 60, 45, 49, '2017-10-05', 0.4, 1, 0)\n",
            "(5178, \"Large Furnished Room Near B'way \", 8967, 'Shunichi', 'Manhattan', \"Hell's Kitchen\", 40.76489, -73.98493, 'Private room', 79, 2, 430, '2019-06-24', 3.47, 1, 220)\n",
            "(5203, 'Cozy Clean Guest Room - Family Apt', 7490, 'MaryEllen', 'Manhattan', 'Upper West Side', 40.80178, -73.96723, 'Private room', 79, 2, 118, '2017-07-21', 0.99, 1, 0)\n",
            "(5238, 'Cute & Cozy Lower East Side 1 bdrm', 7549, 'Ben', 'Manhattan', 'Chinatown', 40.71344, -73.99037, 'Entire home/apt', 150, 1, 160, '2019-06-09', 1.33, 4, 188)\n"
          ]
        }
      ]
    },
    {
      "cell_type": "markdown",
      "source": [
        "###  3.2: Count Total Records\n",
        "-  an SQL query to count the total number of records in the 'listings' table.\n",
        "- Execute the query and display the count.\n",
        "\n",
        " This query uses the COUNT(*) function to count the total number of records in the \"listings\" table."
      ],
      "metadata": {
        "id": "0O4Nfb9yC61D"
      }
    },
    {
      "cell_type": "code",
      "source": [
        "#  Execute the SQL query to count the number of records\n",
        "cursor.execute(\"select count(*) from listings;\")\n",
        "\n",
        "\n",
        "count = cursor.fetchone()[0]\n",
        "# Print the count\n",
        "print(\"Total number of records in the 'listings' table:\", count)"
      ],
      "metadata": {
        "id": "4fJa4Bt6C7Nw",
        "colab": {
          "base_uri": "https://localhost:8080/"
        },
        "outputId": "8c033eec-c87f-4bb8-f490-1bb1f52ae2cc"
      },
      "execution_count": 44,
      "outputs": [
        {
          "output_type": "stream",
          "name": "stdout",
          "text": [
            "Total number of records in the 'listings' table: 48895\n"
          ]
        }
      ]
    },
    {
      "cell_type": "markdown",
      "source": [
        "###  3.3: Top 10 Neighborhoods by Average Price\n",
        "-  an SQL query to find the top 10 neighborhoods with the highest average listing price.\n",
        "- Execute the query and display the results.\n",
        "\n",
        " The result includes the neighborhood group, neighborhood name, and the average price. Make sure to use GROUP BY and ORDER BY, respectively.\n"
      ],
      "metadata": {
        "id": "uULLKoO0DEou"
      }
    },
    {
      "cell_type": "code",
      "source": [
        "#  Execute the SQL query to find the top 10 neighborhoods with the highest average listing price\n",
        "cursor.execute(\"\"\"\n",
        "    SELECT neighbourhood_group, neighbourhood, AVG(price) AS avg_price\n",
        "    FROM listings\n",
        "    group by neighbourhood_group, neighbourhood\n",
        "    ORDER BY  avg_price DESC\n",
        "    LIMIT 10;\n",
        "\"\"\")\n",
        "\n",
        "\n",
        "results = cursor.fetchall()"
      ],
      "metadata": {
        "id": "EDnyQuz1DDin"
      },
      "execution_count": 45,
      "outputs": []
    },
    {
      "cell_type": "code",
      "source": [
        "len(results)"
      ],
      "metadata": {
        "colab": {
          "base_uri": "https://localhost:8080/"
        },
        "id": "p1sefZDPvcI7",
        "outputId": "e06a7c4a-33df-4f4d-a025-f51f6bc46e7c"
      },
      "execution_count": 46,
      "outputs": [
        {
          "output_type": "execute_result",
          "data": {
            "text/plain": [
              "10"
            ]
          },
          "metadata": {},
          "execution_count": 46
        }
      ]
    },
    {
      "cell_type": "code",
      "source": [
        "# Display the results\n",
        "for row in results:\n",
        "    print(row)"
      ],
      "metadata": {
        "id": "Ci48EiFwDJBB",
        "colab": {
          "base_uri": "https://localhost:8080/"
        },
        "outputId": "7059f499-01e0-4202-a18f-03ff39a69e7d"
      },
      "execution_count": 47,
      "outputs": [
        {
          "output_type": "stream",
          "name": "stdout",
          "text": [
            "('Staten Island', 'Fort Wadsworth', 800.0)\n",
            "('Staten Island', 'Woodrow', 700.0)\n",
            "('Manhattan', 'Tribeca', 490.638418079096)\n",
            "('Brooklyn', 'Sea Gate', 487.85714285714283)\n",
            "('Bronx', 'Riverdale', 442.09090909090907)\n",
            "('Staten Island', \"Prince's Bay\", 409.5)\n",
            "('Manhattan', 'Battery Park City', 367.5571428571429)\n",
            "('Manhattan', 'Flatiron District', 341.925)\n",
            "('Staten Island', 'Randall Manor', 336.0)\n",
            "('Manhattan', 'NoHo', 295.71794871794873)\n"
          ]
        }
      ]
    },
    {
      "cell_type": "markdown",
      "source": [
        "###  3.4: Number of Listings by Room Type\n",
        "-  an SQL query to determine the number of listings available for each room type.\n",
        "- Execute the query and display the results.\n",
        "\n",
        " The COUNT(*) function is used to count the number of records for each room type, and the result is grouped by the room type."
      ],
      "metadata": {
        "id": "yPvuIfq7DMhj"
      }
    },
    {
      "cell_type": "code",
      "source": [
        "#  Execute the SQL query to determine the number of listings available for each room type (finish the one missing sql command)\n",
        "cursor.execute(\"\"\"\n",
        "    select  room_type, COUNT(*) AS num_listings\n",
        "    FROM listings\n",
        "    GROUP BY room_type;\n",
        "\"\"\")\n",
        "\n",
        "\n",
        "results = cursor.fetchall()"
      ],
      "metadata": {
        "id": "U1r32q1rDOil"
      },
      "execution_count": 48,
      "outputs": []
    },
    {
      "cell_type": "code",
      "source": [
        "# Display the results\n",
        "for row in results:\n",
        "    print(row)"
      ],
      "metadata": {
        "id": "s93h67wkDR6r",
        "colab": {
          "base_uri": "https://localhost:8080/"
        },
        "outputId": "44a16720-bd4c-43ea-9268-9e9f0e31a4b8"
      },
      "execution_count": 49,
      "outputs": [
        {
          "output_type": "stream",
          "name": "stdout",
          "text": [
            "('Entire home/apt', 25409)\n",
            "('Private room', 22326)\n",
            "('Shared room', 1160)\n"
          ]
        }
      ]
    },
    {
      "cell_type": "markdown",
      "source": [
        "###  3.5: Average Number of Reviews per Listing\n",
        "-  an SQL query to calculate the average number of reviews per listing.\n",
        "- Execute the query and display the average.\n",
        "\n",
        " Use AVG() to find the average of a column and save it via an alias using AS. Make sure to specify the table using FROM."
      ],
      "metadata": {
        "id": "5zAOsyKXDV_j"
      }
    },
    {
      "cell_type": "code",
      "source": [
        "#  Execute the SQL query to calculate the average number of reviews per listing\n",
        "cursor.execute(\"\"\"\n",
        "    select  number_of_reviews AS avg_reviews\n",
        "     from listings;\n",
        "\"\"\")\n",
        "\n",
        "\n",
        "result = cursor.fetchone()\n",
        "# Print the average number of reviews per listing\n",
        "print(\"Average number of reviews per listing:\", result[0])"
      ],
      "metadata": {
        "id": "lbOe62s4Dgt0",
        "colab": {
          "base_uri": "https://localhost:8080/"
        },
        "outputId": "114dce46-eeef-4b32-a681-c074bbc1a668"
      },
      "execution_count": 50,
      "outputs": [
        {
          "output_type": "stream",
          "name": "stdout",
          "text": [
            "Average number of reviews per listing: 9\n"
          ]
        }
      ]
    },
    {
      "cell_type": "markdown",
      "source": [
        "###  3.6: Listings with Minimum Number of Reviews\n",
        "-  an SQL query to find the listings with the minimum number of reviews.\n",
        "- Execute the query and display the results (limit to 15 rows).\n",
        "\n",
        " The subquery (SELECT MIN(number_of_reviews) FROM listings) retrieves the minimum number of reviews from the \"listings\" table, and the main query filters the rows where number_of_reviews matches the minimum value. Make sure to use WHERE clause."
      ],
      "metadata": {
        "id": "XEQ1ZI6YDj1e"
      }
    },
    {
      "cell_type": "code",
      "source": [
        "#  Execute the SQL query to find the listings with the minimum number of reviews\n",
        "cursor.execute(\"\"\"\n",
        "    SELECT id\n",
        "    FROM listings\n",
        "    WHERE number_of_reviews = (SELECT MIN(number_of_reviews) FROM listings)\n",
        "    LIMIT 15;\n",
        "\"\"\")\n",
        "\n",
        "\n",
        "results = cursor.fetchall()"
      ],
      "metadata": {
        "id": "z_Qq7kexDl38"
      },
      "execution_count": 51,
      "outputs": []
    },
    {
      "cell_type": "code",
      "source": [
        "# Display the results (limit to 15 rows)\n",
        "for row in results:\n",
        "    print(row)"
      ],
      "metadata": {
        "id": "0rlqZDJCDoWB",
        "colab": {
          "base_uri": "https://localhost:8080/"
        },
        "outputId": "d588e8d8-840f-42e4-f1c7-7779ddfb4e76"
      },
      "execution_count": 52,
      "outputs": [
        {
          "output_type": "stream",
          "name": "stdout",
          "text": [
            "(3647,)\n",
            "(7750,)\n",
            "(8700,)\n",
            "(11452,)\n",
            "(11943,)\n",
            "(51438,)\n",
            "(54466,)\n",
            "(63588,)\n",
            "(63913,)\n",
            "(64015,)\n",
            "(65556,)\n",
            "(89427,)\n",
            "(94209,)\n",
            "(118680,)\n",
            "(145188,)\n"
          ]
        }
      ]
    },
    {
      "cell_type": "markdown",
      "source": [
        "###  3.7: Filter Listings by Neighborhood and Maximum Price\n",
        "-  an SQL query to filter the listings in the 'Chelsea' neighborhood with a maximum price of $200.\n",
        "- Execute the query and display the results.\n",
        "\n",
        "The WHERE clause is used to specify the filtering conditions."
      ],
      "metadata": {
        "id": "SXPgoKZcDp3h"
      }
    },
    {
      "cell_type": "code",
      "source": [
        "#  Execute the SQL query to filter the listings\n",
        "cursor.execute(\"\"\"SELECT neighbourhood, price\n",
        "    FROM listings\n",
        "    WHERE  neighbourhood = 'Chelsea' AND price <= 200\n",
        "\"\"\")\n",
        "\n",
        "results = cursor.fetchall()"
      ],
      "metadata": {
        "id": "l9Ynu9zCDtSE"
      },
      "execution_count": 53,
      "outputs": []
    },
    {
      "cell_type": "code",
      "source": [
        "# Display the results\n",
        "for row in results:\n",
        "    print(row)"
      ],
      "metadata": {
        "id": "o6llsbDYDvOC",
        "colab": {
          "base_uri": "https://localhost:8080/"
        },
        "outputId": "b92706c3-426d-43fe-d78a-153f32778abc"
      },
      "execution_count": 54,
      "outputs": [
        {
          "output_type": "stream",
          "name": "stdout",
          "text": [
            "('Chelsea', 140)\n",
            "('Chelsea', 150)\n",
            "('Chelsea', 98)\n",
            "('Chelsea', 125)\n",
            "('Chelsea', 123)\n",
            "('Chelsea', 130)\n",
            "('Chelsea', 132)\n",
            "('Chelsea', 200)\n",
            "('Chelsea', 150)\n",
            "('Chelsea', 149)\n",
            "('Chelsea', 199)\n",
            "('Chelsea', 195)\n",
            "('Chelsea', 95)\n",
            "('Chelsea', 125)\n",
            "('Chelsea', 139)\n",
            "('Chelsea', 50)\n",
            "('Chelsea', 200)\n",
            "('Chelsea', 130)\n",
            "('Chelsea', 170)\n",
            "('Chelsea', 135)\n",
            "('Chelsea', 125)\n",
            "('Chelsea', 135)\n",
            "('Chelsea', 200)\n",
            "('Chelsea', 199)\n",
            "('Chelsea', 72)\n",
            "('Chelsea', 140)\n",
            "('Chelsea', 155)\n",
            "('Chelsea', 105)\n",
            "('Chelsea', 99)\n",
            "('Chelsea', 179)\n",
            "('Chelsea', 65)\n",
            "('Chelsea', 109)\n",
            "('Chelsea', 200)\n",
            "('Chelsea', 125)\n",
            "('Chelsea', 124)\n",
            "('Chelsea', 160)\n",
            "('Chelsea', 70)\n",
            "('Chelsea', 176)\n",
            "('Chelsea', 160)\n",
            "('Chelsea', 175)\n",
            "('Chelsea', 90)\n",
            "('Chelsea', 125)\n",
            "('Chelsea', 119)\n",
            "('Chelsea', 93)\n",
            "('Chelsea', 93)\n",
            "('Chelsea', 199)\n",
            "('Chelsea', 180)\n",
            "('Chelsea', 200)\n",
            "('Chelsea', 90)\n",
            "('Chelsea', 98)\n",
            "('Chelsea', 96)\n",
            "('Chelsea', 140)\n",
            "('Chelsea', 200)\n",
            "('Chelsea', 76)\n",
            "('Chelsea', 200)\n",
            "('Chelsea', 90)\n",
            "('Chelsea', 90)\n",
            "('Chelsea', 161)\n",
            "('Chelsea', 92)\n",
            "('Chelsea', 200)\n",
            "('Chelsea', 90)\n",
            "('Chelsea', 200)\n",
            "('Chelsea', 84)\n",
            "('Chelsea', 75)\n",
            "('Chelsea', 200)\n",
            "('Chelsea', 189)\n",
            "('Chelsea', 199)\n",
            "('Chelsea', 139)\n",
            "('Chelsea', 90)\n",
            "('Chelsea', 80)\n",
            "('Chelsea', 160)\n",
            "('Chelsea', 150)\n",
            "('Chelsea', 159)\n",
            "('Chelsea', 119)\n",
            "('Chelsea', 110)\n",
            "('Chelsea', 85)\n",
            "('Chelsea', 200)\n",
            "('Chelsea', 180)\n",
            "('Chelsea', 93)\n",
            "('Chelsea', 93)\n",
            "('Chelsea', 90)\n",
            "('Chelsea', 165)\n",
            "('Chelsea', 160)\n",
            "('Chelsea', 93)\n",
            "('Chelsea', 179)\n",
            "('Chelsea', 85)\n",
            "('Chelsea', 175)\n",
            "('Chelsea', 135)\n",
            "('Chelsea', 95)\n",
            "('Chelsea', 150)\n",
            "('Chelsea', 195)\n",
            "('Chelsea', 200)\n",
            "('Chelsea', 95)\n",
            "('Chelsea', 125)\n",
            "('Chelsea', 175)\n",
            "('Chelsea', 115)\n",
            "('Chelsea', 159)\n",
            "('Chelsea', 120)\n",
            "('Chelsea', 160)\n",
            "('Chelsea', 199)\n",
            "('Chelsea', 110)\n",
            "('Chelsea', 160)\n",
            "('Chelsea', 70)\n",
            "('Chelsea', 150)\n",
            "('Chelsea', 200)\n",
            "('Chelsea', 150)\n",
            "('Chelsea', 175)\n",
            "('Chelsea', 175)\n",
            "('Chelsea', 135)\n",
            "('Chelsea', 109)\n",
            "('Chelsea', 199)\n",
            "('Chelsea', 195)\n",
            "('Chelsea', 165)\n",
            "('Chelsea', 163)\n",
            "('Chelsea', 105)\n",
            "('Chelsea', 150)\n",
            "('Chelsea', 150)\n",
            "('Chelsea', 100)\n",
            "('Chelsea', 199)\n",
            "('Chelsea', 150)\n",
            "('Chelsea', 175)\n",
            "('Chelsea', 110)\n",
            "('Chelsea', 100)\n",
            "('Chelsea', 130)\n",
            "('Chelsea', 100)\n",
            "('Chelsea', 200)\n",
            "('Chelsea', 200)\n",
            "('Chelsea', 145)\n",
            "('Chelsea', 99)\n",
            "('Chelsea', 150)\n",
            "('Chelsea', 155)\n",
            "('Chelsea', 135)\n",
            "('Chelsea', 150)\n",
            "('Chelsea', 200)\n",
            "('Chelsea', 170)\n",
            "('Chelsea', 150)\n",
            "('Chelsea', 195)\n",
            "('Chelsea', 170)\n",
            "('Chelsea', 118)\n",
            "('Chelsea', 175)\n",
            "('Chelsea', 200)\n",
            "('Chelsea', 120)\n",
            "('Chelsea', 175)\n",
            "('Chelsea', 135)\n",
            "('Chelsea', 200)\n",
            "('Chelsea', 100)\n",
            "('Chelsea', 129)\n",
            "('Chelsea', 129)\n",
            "('Chelsea', 95)\n",
            "('Chelsea', 160)\n",
            "('Chelsea', 140)\n",
            "('Chelsea', 109)\n",
            "('Chelsea', 200)\n",
            "('Chelsea', 116)\n",
            "('Chelsea', 112)\n",
            "('Chelsea', 200)\n",
            "('Chelsea', 129)\n",
            "('Chelsea', 136)\n",
            "('Chelsea', 109)\n",
            "('Chelsea', 193)\n",
            "('Chelsea', 140)\n",
            "('Chelsea', 130)\n",
            "('Chelsea', 180)\n",
            "('Chelsea', 139)\n",
            "('Chelsea', 100)\n",
            "('Chelsea', 200)\n",
            "('Chelsea', 150)\n",
            "('Chelsea', 100)\n",
            "('Chelsea', 180)\n",
            "('Chelsea', 182)\n",
            "('Chelsea', 98)\n",
            "('Chelsea', 160)\n",
            "('Chelsea', 150)\n",
            "('Chelsea', 126)\n",
            "('Chelsea', 195)\n",
            "('Chelsea', 100)\n",
            "('Chelsea', 199)\n",
            "('Chelsea', 175)\n",
            "('Chelsea', 195)\n",
            "('Chelsea', 80)\n",
            "('Chelsea', 200)\n",
            "('Chelsea', 50)\n",
            "('Chelsea', 85)\n",
            "('Chelsea', 199)\n",
            "('Chelsea', 170)\n",
            "('Chelsea', 159)\n",
            "('Chelsea', 175)\n",
            "('Chelsea', 145)\n",
            "('Chelsea', 52)\n",
            "('Chelsea', 175)\n",
            "('Chelsea', 81)\n",
            "('Chelsea', 120)\n",
            "('Chelsea', 139)\n",
            "('Chelsea', 85)\n",
            "('Chelsea', 85)\n",
            "('Chelsea', 85)\n",
            "('Chelsea', 46)\n",
            "('Chelsea', 180)\n",
            "('Chelsea', 120)\n",
            "('Chelsea', 130)\n",
            "('Chelsea', 119)\n",
            "('Chelsea', 70)\n",
            "('Chelsea', 125)\n",
            "('Chelsea', 165)\n",
            "('Chelsea', 65)\n",
            "('Chelsea', 80)\n",
            "('Chelsea', 200)\n",
            "('Chelsea', 84)\n",
            "('Chelsea', 70)\n",
            "('Chelsea', 110)\n",
            "('Chelsea', 142)\n",
            "('Chelsea', 199)\n",
            "('Chelsea', 150)\n",
            "('Chelsea', 175)\n",
            "('Chelsea', 175)\n",
            "('Chelsea', 179)\n",
            "('Chelsea', 85)\n",
            "('Chelsea', 165)\n",
            "('Chelsea', 200)\n",
            "('Chelsea', 185)\n",
            "('Chelsea', 100)\n",
            "('Chelsea', 125)\n",
            "('Chelsea', 55)\n",
            "('Chelsea', 75)\n",
            "('Chelsea', 195)\n",
            "('Chelsea', 75)\n",
            "('Chelsea', 100)\n",
            "('Chelsea', 191)\n",
            "('Chelsea', 150)\n",
            "('Chelsea', 200)\n",
            "('Chelsea', 100)\n",
            "('Chelsea', 175)\n",
            "('Chelsea', 170)\n",
            "('Chelsea', 179)\n",
            "('Chelsea', 105)\n",
            "('Chelsea', 130)\n",
            "('Chelsea', 154)\n",
            "('Chelsea', 85)\n",
            "('Chelsea', 75)\n",
            "('Chelsea', 165)\n",
            "('Chelsea', 165)\n",
            "('Chelsea', 110)\n",
            "('Chelsea', 90)\n",
            "('Chelsea', 70)\n",
            "('Chelsea', 150)\n",
            "('Chelsea', 155)\n",
            "('Chelsea', 185)\n",
            "('Chelsea', 150)\n",
            "('Chelsea', 135)\n",
            "('Chelsea', 199)\n",
            "('Chelsea', 85)\n",
            "('Chelsea', 85)\n",
            "('Chelsea', 190)\n",
            "('Chelsea', 175)\n",
            "('Chelsea', 125)\n",
            "('Chelsea', 195)\n",
            "('Chelsea', 90)\n",
            "('Chelsea', 155)\n",
            "('Chelsea', 143)\n",
            "('Chelsea', 150)\n",
            "('Chelsea', 185)\n",
            "('Chelsea', 139)\n",
            "('Chelsea', 175)\n",
            "('Chelsea', 129)\n",
            "('Chelsea', 90)\n",
            "('Chelsea', 109)\n",
            "('Chelsea', 80)\n",
            "('Chelsea', 110)\n",
            "('Chelsea', 180)\n",
            "('Chelsea', 110)\n",
            "('Chelsea', 120)\n",
            "('Chelsea', 179)\n",
            "('Chelsea', 110)\n",
            "('Chelsea', 180)\n",
            "('Chelsea', 200)\n",
            "('Chelsea', 78)\n",
            "('Chelsea', 120)\n",
            "('Chelsea', 150)\n",
            "('Chelsea', 180)\n",
            "('Chelsea', 180)\n",
            "('Chelsea', 125)\n",
            "('Chelsea', 149)\n",
            "('Chelsea', 200)\n",
            "('Chelsea', 181)\n",
            "('Chelsea', 156)\n",
            "('Chelsea', 60)\n",
            "('Chelsea', 150)\n",
            "('Chelsea', 120)\n",
            "('Chelsea', 128)\n",
            "('Chelsea', 165)\n",
            "('Chelsea', 110)\n",
            "('Chelsea', 85)\n",
            "('Chelsea', 85)\n",
            "('Chelsea', 95)\n",
            "('Chelsea', 85)\n",
            "('Chelsea', 85)\n",
            "('Chelsea', 115)\n",
            "('Chelsea', 196)\n",
            "('Chelsea', 130)\n",
            "('Chelsea', 200)\n",
            "('Chelsea', 150)\n",
            "('Chelsea', 125)\n",
            "('Chelsea', 99)\n",
            "('Chelsea', 190)\n",
            "('Chelsea', 175)\n",
            "('Chelsea', 160)\n",
            "('Chelsea', 103)\n",
            "('Chelsea', 100)\n",
            "('Chelsea', 82)\n",
            "('Chelsea', 100)\n",
            "('Chelsea', 90)\n",
            "('Chelsea', 190)\n",
            "('Chelsea', 100)\n",
            "('Chelsea', 89)\n",
            "('Chelsea', 139)\n",
            "('Chelsea', 200)\n",
            "('Chelsea', 57)\n",
            "('Chelsea', 95)\n",
            "('Chelsea', 105)\n",
            "('Chelsea', 134)\n",
            "('Chelsea', 180)\n",
            "('Chelsea', 69)\n",
            "('Chelsea', 195)\n",
            "('Chelsea', 89)\n",
            "('Chelsea', 200)\n",
            "('Chelsea', 200)\n",
            "('Chelsea', 180)\n",
            "('Chelsea', 68)\n",
            "('Chelsea', 149)\n",
            "('Chelsea', 150)\n",
            "('Chelsea', 90)\n",
            "('Chelsea', 85)\n",
            "('Chelsea', 149)\n",
            "('Chelsea', 90)\n",
            "('Chelsea', 140)\n",
            "('Chelsea', 200)\n",
            "('Chelsea', 100)\n",
            "('Chelsea', 185)\n",
            "('Chelsea', 130)\n",
            "('Chelsea', 135)\n",
            "('Chelsea', 175)\n",
            "('Chelsea', 189)\n",
            "('Chelsea', 49)\n",
            "('Chelsea', 65)\n",
            "('Chelsea', 140)\n",
            "('Chelsea', 140)\n",
            "('Chelsea', 105)\n",
            "('Chelsea', 155)\n",
            "('Chelsea', 100)\n",
            "('Chelsea', 130)\n",
            "('Chelsea', 150)\n",
            "('Chelsea', 200)\n",
            "('Chelsea', 200)\n",
            "('Chelsea', 128)\n",
            "('Chelsea', 110)\n",
            "('Chelsea', 169)\n",
            "('Chelsea', 175)\n",
            "('Chelsea', 170)\n",
            "('Chelsea', 40)\n",
            "('Chelsea', 164)\n",
            "('Chelsea', 162)\n",
            "('Chelsea', 195)\n",
            "('Chelsea', 154)\n",
            "('Chelsea', 165)\n",
            "('Chelsea', 75)\n",
            "('Chelsea', 89)\n",
            "('Chelsea', 95)\n",
            "('Chelsea', 200)\n",
            "('Chelsea', 100)\n",
            "('Chelsea', 160)\n",
            "('Chelsea', 125)\n",
            "('Chelsea', 195)\n",
            "('Chelsea', 99)\n",
            "('Chelsea', 169)\n",
            "('Chelsea', 165)\n",
            "('Chelsea', 149)\n",
            "('Chelsea', 175)\n",
            "('Chelsea', 110)\n",
            "('Chelsea', 170)\n",
            "('Chelsea', 82)\n",
            "('Chelsea', 95)\n",
            "('Chelsea', 128)\n",
            "('Chelsea', 180)\n",
            "('Chelsea', 85)\n",
            "('Chelsea', 120)\n",
            "('Chelsea', 185)\n",
            "('Chelsea', 159)\n",
            "('Chelsea', 200)\n",
            "('Chelsea', 99)\n",
            "('Chelsea', 200)\n",
            "('Chelsea', 150)\n",
            "('Chelsea', 155)\n",
            "('Chelsea', 12)\n",
            "('Chelsea', 200)\n",
            "('Chelsea', 150)\n",
            "('Chelsea', 99)\n",
            "('Chelsea', 200)\n",
            "('Chelsea', 109)\n",
            "('Chelsea', 149)\n",
            "('Chelsea', 135)\n",
            "('Chelsea', 115)\n",
            "('Chelsea', 152)\n",
            "('Chelsea', 84)\n",
            "('Chelsea', 110)\n",
            "('Chelsea', 175)\n",
            "('Chelsea', 159)\n",
            "('Chelsea', 88)\n",
            "('Chelsea', 75)\n",
            "('Chelsea', 115)\n",
            "('Chelsea', 150)\n",
            "('Chelsea', 115)\n",
            "('Chelsea', 75)\n",
            "('Chelsea', 84)\n",
            "('Chelsea', 150)\n",
            "('Chelsea', 127)\n",
            "('Chelsea', 63)\n",
            "('Chelsea', 180)\n",
            "('Chelsea', 146)\n",
            "('Chelsea', 98)\n",
            "('Chelsea', 80)\n",
            "('Chelsea', 99)\n",
            "('Chelsea', 80)\n",
            "('Chelsea', 150)\n",
            "('Chelsea', 96)\n",
            "('Chelsea', 186)\n",
            "('Chelsea', 185)\n",
            "('Chelsea', 172)\n",
            "('Chelsea', 199)\n",
            "('Chelsea', 70)\n",
            "('Chelsea', 89)\n",
            "('Chelsea', 70)\n",
            "('Chelsea', 150)\n",
            "('Chelsea', 85)\n",
            "('Chelsea', 190)\n",
            "('Chelsea', 190)\n",
            "('Chelsea', 175)\n",
            "('Chelsea', 120)\n",
            "('Chelsea', 170)\n",
            "('Chelsea', 75)\n",
            "('Chelsea', 140)\n",
            "('Chelsea', 100)\n",
            "('Chelsea', 68)\n",
            "('Chelsea', 200)\n",
            "('Chelsea', 100)\n",
            "('Chelsea', 99)\n",
            "('Chelsea', 179)\n",
            "('Chelsea', 199)\n",
            "('Chelsea', 50)\n",
            "('Chelsea', 92)\n",
            "('Chelsea', 69)\n",
            "('Chelsea', 150)\n",
            "('Chelsea', 98)\n",
            "('Chelsea', 115)\n",
            "('Chelsea', 85)\n",
            "('Chelsea', 155)\n",
            "('Chelsea', 165)\n",
            "('Chelsea', 175)\n",
            "('Chelsea', 149)\n",
            "('Chelsea', 120)\n",
            "('Chelsea', 200)\n",
            "('Chelsea', 77)\n",
            "('Chelsea', 150)\n",
            "('Chelsea', 93)\n",
            "('Chelsea', 200)\n",
            "('Chelsea', 85)\n",
            "('Chelsea', 180)\n",
            "('Chelsea', 180)\n",
            "('Chelsea', 167)\n",
            "('Chelsea', 200)\n",
            "('Chelsea', 154)\n",
            "('Chelsea', 175)\n",
            "('Chelsea', 110)\n",
            "('Chelsea', 200)\n",
            "('Chelsea', 150)\n",
            "('Chelsea', 91)\n",
            "('Chelsea', 140)\n",
            "('Chelsea', 90)\n",
            "('Chelsea', 175)\n",
            "('Chelsea', 195)\n",
            "('Chelsea', 137)\n",
            "('Chelsea', 65)\n",
            "('Chelsea', 200)\n",
            "('Chelsea', 69)\n",
            "('Chelsea', 165)\n",
            "('Chelsea', 200)\n",
            "('Chelsea', 175)\n",
            "('Chelsea', 100)\n",
            "('Chelsea', 189)\n",
            "('Chelsea', 200)\n",
            "('Chelsea', 180)\n",
            "('Chelsea', 85)\n",
            "('Chelsea', 175)\n",
            "('Chelsea', 125)\n",
            "('Chelsea', 170)\n",
            "('Chelsea', 114)\n",
            "('Chelsea', 66)\n",
            "('Chelsea', 85)\n",
            "('Chelsea', 200)\n",
            "('Chelsea', 150)\n",
            "('Chelsea', 175)\n",
            "('Chelsea', 139)\n",
            "('Chelsea', 110)\n",
            "('Chelsea', 138)\n",
            "('Chelsea', 133)\n",
            "('Chelsea', 130)\n",
            "('Chelsea', 138)\n",
            "('Chelsea', 160)\n",
            "('Chelsea', 75)\n",
            "('Chelsea', 80)\n",
            "('Chelsea', 68)\n",
            "('Chelsea', 200)\n",
            "('Chelsea', 200)\n",
            "('Chelsea', 190)\n",
            "('Chelsea', 190)\n",
            "('Chelsea', 180)\n",
            "('Chelsea', 100)\n",
            "('Chelsea', 92)\n",
            "('Chelsea', 86)\n",
            "('Chelsea', 200)\n",
            "('Chelsea', 99)\n",
            "('Chelsea', 100)\n",
            "('Chelsea', 99)\n",
            "('Chelsea', 99)\n",
            "('Chelsea', 180)\n",
            "('Chelsea', 180)\n",
            "('Chelsea', 175)\n",
            "('Chelsea', 99)\n",
            "('Chelsea', 100)\n",
            "('Chelsea', 180)\n",
            "('Chelsea', 139)\n",
            "('Chelsea', 123)\n",
            "('Chelsea', 65)\n",
            "('Chelsea', 200)\n",
            "('Chelsea', 100)\n",
            "('Chelsea', 100)\n",
            "('Chelsea', 100)\n",
            "('Chelsea', 100)\n",
            "('Chelsea', 100)\n",
            "('Chelsea', 100)\n",
            "('Chelsea', 100)\n",
            "('Chelsea', 100)\n",
            "('Chelsea', 100)\n",
            "('Chelsea', 149)\n",
            "('Chelsea', 80)\n",
            "('Chelsea', 150)\n",
            "('Chelsea', 140)\n",
            "('Chelsea', 149)\n",
            "('Chelsea', 139)\n",
            "('Chelsea', 180)\n",
            "('Chelsea', 83)\n",
            "('Chelsea', 175)\n",
            "('Chelsea', 199)\n",
            "('Chelsea', 140)\n",
            "('Chelsea', 140)\n",
            "('Chelsea', 100)\n",
            "('Chelsea', 75)\n",
            "('Chelsea', 120)\n",
            "('Chelsea', 185)\n",
            "('Chelsea', 170)\n",
            "('Chelsea', 115)\n",
            "('Chelsea', 110)\n",
            "('Chelsea', 150)\n",
            "('Chelsea', 154)\n",
            "('Chelsea', 200)\n",
            "('Chelsea', 99)\n",
            "('Chelsea', 199)\n",
            "('Chelsea', 162)\n",
            "('Chelsea', 99)\n",
            "('Chelsea', 150)\n",
            "('Chelsea', 130)\n",
            "('Chelsea', 110)\n",
            "('Chelsea', 100)\n",
            "('Chelsea', 180)\n",
            "('Chelsea', 195)\n",
            "('Chelsea', 199)\n",
            "('Chelsea', 129)\n",
            "('Chelsea', 199)\n",
            "('Chelsea', 199)\n",
            "('Chelsea', 199)\n",
            "('Chelsea', 199)\n",
            "('Chelsea', 199)\n",
            "('Chelsea', 199)\n",
            "('Chelsea', 129)\n",
            "('Chelsea', 149)\n",
            "('Chelsea', 149)\n",
            "('Chelsea', 149)\n",
            "('Chelsea', 149)\n",
            "('Chelsea', 159)\n",
            "('Chelsea', 159)\n",
            "('Chelsea', 159)\n",
            "('Chelsea', 134)\n",
            "('Chelsea', 129)\n",
            "('Chelsea', 85)\n",
            "('Chelsea', 159)\n",
            "('Chelsea', 195)\n",
            "('Chelsea', 85)\n",
            "('Chelsea', 140)\n",
            "('Chelsea', 109)\n",
            "('Chelsea', 199)\n",
            "('Chelsea', 159)\n",
            "('Chelsea', 100)\n",
            "('Chelsea', 93)\n",
            "('Chelsea', 89)\n",
            "('Chelsea', 154)\n",
            "('Chelsea', 120)\n",
            "('Chelsea', 199)\n",
            "('Chelsea', 150)\n",
            "('Chelsea', 195)\n",
            "('Chelsea', 180)\n",
            "('Chelsea', 198)\n",
            "('Chelsea', 105)\n",
            "('Chelsea', 85)\n",
            "('Chelsea', 175)\n",
            "('Chelsea', 200)\n",
            "('Chelsea', 89)\n",
            "('Chelsea', 105)\n",
            "('Chelsea', 105)\n",
            "('Chelsea', 125)\n",
            "('Chelsea', 185)\n",
            "('Chelsea', 150)\n",
            "('Chelsea', 67)\n",
            "('Chelsea', 150)\n",
            "('Chelsea', 181)\n",
            "('Chelsea', 109)\n",
            "('Chelsea', 75)\n",
            "('Chelsea', 75)\n",
            "('Chelsea', 155)\n"
          ]
        }
      ]
    },
    {
      "cell_type": "markdown",
      "source": [
        "# Section 4: Closing the Database Connection <a name=\"closing-connection\"></a>"
      ],
      "metadata": {
        "id": "CyaxVtAuDyDd"
      }
    },
    {
      "cell_type": "markdown",
      "source": [
        "###  4.1: Close the Cursor and Database Connection\n",
        "- It's good practice to close the cursor and the database connection when you're done working with the database to free up system resources and maintain proper connection management.\n"
      ],
      "metadata": {
        "id": "nFKyd0DbD4Ns"
      }
    },
    {
      "cell_type": "code",
      "source": [
        "\n",
        "# Properly close the cursor and database connection at the end of  script .\n",
        "cursor.close()\n",
        "conn.close()"
      ],
      "metadata": {
        "id": "_z_H6ZsmD2GX"
      },
      "execution_count": 55,
      "outputs": []
    },
    {
      "cell_type": "markdown",
      "source": [
        "# Section 5: Summary of Basic SQL Commands <a name=\"summary-commands\"></a>"
      ],
      "metadata": {
        "id": "P5b9IpSZVtlA"
      }
    },
    {
      "cell_type": "markdown",
      "source": [
        "\n",
        "\n",
        "\n",
        "- Established a connection to the SQLite database.\n",
        "\n",
        "\n",
        "- Loaded the dataset into a DataFrame.\n",
        "- Imported the DataFrame into the database.\n",
        "\n",
        "\n",
        "- Executed a SELECT query to retrieve all columns.\n",
        "\n",
        "\n",
        "- Executed a SELECT COUNT(*) query to count the total records.\n",
        "\n",
        "\n",
        "- Executed a SELECT query with GROUP BY, ORDER BY, and LIMIT clauses.\n",
        "\n",
        "\n",
        "- Executed a SELECT query with COUNT() and GROUP BY.\n",
        "\n",
        "\n",
        "- Executed a SELECT query with AVG().\n",
        "\n",
        "\n",
        "- Executed a SELECT query with WHERE and a subquery.\n",
        "\n",
        "\n",
        "- Executed a SELECT query with WHERE conditions.\n",
        "\n",
        "\n",
        "- Closed the cursor and the database connection.\n",
        "\n",
        "\n"
      ],
      "metadata": {
        "id": "e_AmKIOvUHR_"
      }
    }
  ]
}
