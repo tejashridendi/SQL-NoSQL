{
  "nbformat": 4,
  "nbformat_minor": 0,
  "metadata": {
    "colab": {
      "provenance": []
    },
    "kernelspec": {
      "name": "python3",
      "display_name": "Python 3"
    },
    "language_info": {
      "name": "python"
    }
  },
  "cells": [
    {
      "cell_type": "markdown",
      "source": [
        "\n",
        "\n",
        "\n",
        "\n",
        "<h2 align=\"center\">\n",
        "    Project: Intermediate SQL Queries - #2\n",
        "</h2>\n",
        "\n",
        "\n"
      ],
      "metadata": {
        "id": "tt70feOIfcQ0"
      }
    },
    {
      "cell_type": "markdown",
      "source": [
        "**Project Description:**\n",
        "\n",
        "To work with the New York City Airbnb dataset in this project, we need to create and connect to an SQLite database as seen in the steps within this notebook.\n",
        "\n",
        "\n",
        "\n",
        "**Dataset**\n",
        "- You can find the New York City Airbnb dataset on Kaggle: [New York City Airbnb Dataset](https://www.kaggle.com/datasets/dgomonov/new-york-city-airbnb-open-data)\n",
        "- Download the dataset from the provided link and save it as 'AB_NYC_2019.csv' on your computer.\n",
        "- On colab, click on the \"Upload\" button and select the 'AB_NYC_2019.csv' file from your local computer."
      ],
      "metadata": {
        "id": "35fgH_hXgAUU"
      }
    },
    {
      "cell_type": "markdown",
      "source": [
        "## Introduction\n",
        "In this project, we will work with the New York City Airbnb dataset. Appliying intermediate data analysis tasks.\n",
        "\n",
        "## Table of Contents\n",
        "1. [Libraries and Database Setup](#database-setup)\n",
        "2. [Loading the Dataset](#loading-dataset)\n",
        "3. [SQL Queries](#sql-queries)\n",
        "4. [Closing Connection](#closing-connection)\n",
        "5. [Summary of Intermediate SQL Commands](#summary-commands)\n",
        "\n",
        "# Section 1: Libraries and Database Setup <a name=\"database-setup\"></a>\n",
        "\n",
        "###  1.1: Import Libraries\n",
        "Let's start by importing the necessary libraries.\n"
      ],
      "metadata": {
        "id": "I4xHzjkqigQk"
      }
    },
    {
      "cell_type": "code",
      "source": [
        "!pip install kaggle\n",
        "! mkdir ~/.kaggle\n",
        "#! cp kaggle.json ~/.kaggle/\n",
        "#! chmod 600 ~/.kaggle/kaggle.json"
      ],
      "metadata": {
        "colab": {
          "base_uri": "https://localhost:8080/"
        },
        "id": "b8Rgb5AM00D_",
        "outputId": "76661e70-9ad7-439f-dfb8-d52729fa7304"
      },
      "execution_count": 1,
      "outputs": [
        {
          "output_type": "stream",
          "name": "stdout",
          "text": [
            "Requirement already satisfied: kaggle in /usr/local/lib/python3.10/dist-packages (1.6.17)\n",
            "Requirement already satisfied: six>=1.10 in /usr/local/lib/python3.10/dist-packages (from kaggle) (1.16.0)\n",
            "Requirement already satisfied: certifi>=2023.7.22 in /usr/local/lib/python3.10/dist-packages (from kaggle) (2024.7.4)\n",
            "Requirement already satisfied: python-dateutil in /usr/local/lib/python3.10/dist-packages (from kaggle) (2.8.2)\n",
            "Requirement already satisfied: requests in /usr/local/lib/python3.10/dist-packages (from kaggle) (2.31.0)\n",
            "Requirement already satisfied: tqdm in /usr/local/lib/python3.10/dist-packages (from kaggle) (4.66.4)\n",
            "Requirement already satisfied: python-slugify in /usr/local/lib/python3.10/dist-packages (from kaggle) (8.0.4)\n",
            "Requirement already satisfied: urllib3 in /usr/local/lib/python3.10/dist-packages (from kaggle) (2.0.7)\n",
            "Requirement already satisfied: bleach in /usr/local/lib/python3.10/dist-packages (from kaggle) (6.1.0)\n",
            "Requirement already satisfied: webencodings in /usr/local/lib/python3.10/dist-packages (from bleach->kaggle) (0.5.1)\n",
            "Requirement already satisfied: text-unidecode>=1.3 in /usr/local/lib/python3.10/dist-packages (from python-slugify->kaggle) (1.3)\n",
            "Requirement already satisfied: charset-normalizer<4,>=2 in /usr/local/lib/python3.10/dist-packages (from requests->kaggle) (3.3.2)\n",
            "Requirement already satisfied: idna<4,>=2.5 in /usr/local/lib/python3.10/dist-packages (from requests->kaggle) (3.7)\n"
          ]
        }
      ]
    },
    {
      "cell_type": "code",
      "source": [
        "!pip install -q kaggle"
      ],
      "metadata": {
        "id": "Srg8Tq-R15v_"
      },
      "execution_count": 2,
      "outputs": []
    },
    {
      "cell_type": "code",
      "source": [
        "from google.colab import files\n",
        "uploaded = files.upload()"
      ],
      "metadata": {
        "colab": {
          "base_uri": "https://localhost:8080/",
          "height": 73
        },
        "id": "J13ZUh9k1rnG",
        "outputId": "64461368-8145-4980-ad28-b8442df7a2f9"
      },
      "execution_count": 3,
      "outputs": [
        {
          "output_type": "display_data",
          "data": {
            "text/plain": [
              "<IPython.core.display.HTML object>"
            ],
            "text/html": [
              "\n",
              "     <input type=\"file\" id=\"files-304d7e5c-62c8-465d-9f2e-f1aedc9a64a6\" name=\"files[]\" multiple disabled\n",
              "        style=\"border:none\" />\n",
              "     <output id=\"result-304d7e5c-62c8-465d-9f2e-f1aedc9a64a6\">\n",
              "      Upload widget is only available when the cell has been executed in the\n",
              "      current browser session. Please rerun this cell to enable.\n",
              "      </output>\n",
              "      <script>// Copyright 2017 Google LLC\n",
              "//\n",
              "// Licensed under the Apache License, Version 2.0 (the \"License\");\n",
              "// you may not use this file except in compliance with the License.\n",
              "// You may obtain a copy of the License at\n",
              "//\n",
              "//      http://www.apache.org/licenses/LICENSE-2.0\n",
              "//\n",
              "// Unless required by applicable law or agreed to in writing, software\n",
              "// distributed under the License is distributed on an \"AS IS\" BASIS,\n",
              "// WITHOUT WARRANTIES OR CONDITIONS OF ANY KIND, either express or implied.\n",
              "// See the License for the specific language governing permissions and\n",
              "// limitations under the License.\n",
              "\n",
              "/**\n",
              " * @fileoverview Helpers for google.colab Python module.\n",
              " */\n",
              "(function(scope) {\n",
              "function span(text, styleAttributes = {}) {\n",
              "  const element = document.createElement('span');\n",
              "  element.textContent = text;\n",
              "  for (const key of Object.keys(styleAttributes)) {\n",
              "    element.style[key] = styleAttributes[key];\n",
              "  }\n",
              "  return element;\n",
              "}\n",
              "\n",
              "// Max number of bytes which will be uploaded at a time.\n",
              "const MAX_PAYLOAD_SIZE = 100 * 1024;\n",
              "\n",
              "function _uploadFiles(inputId, outputId) {\n",
              "  const steps = uploadFilesStep(inputId, outputId);\n",
              "  const outputElement = document.getElementById(outputId);\n",
              "  // Cache steps on the outputElement to make it available for the next call\n",
              "  // to uploadFilesContinue from Python.\n",
              "  outputElement.steps = steps;\n",
              "\n",
              "  return _uploadFilesContinue(outputId);\n",
              "}\n",
              "\n",
              "// This is roughly an async generator (not supported in the browser yet),\n",
              "// where there are multiple asynchronous steps and the Python side is going\n",
              "// to poll for completion of each step.\n",
              "// This uses a Promise to block the python side on completion of each step,\n",
              "// then passes the result of the previous step as the input to the next step.\n",
              "function _uploadFilesContinue(outputId) {\n",
              "  const outputElement = document.getElementById(outputId);\n",
              "  const steps = outputElement.steps;\n",
              "\n",
              "  const next = steps.next(outputElement.lastPromiseValue);\n",
              "  return Promise.resolve(next.value.promise).then((value) => {\n",
              "    // Cache the last promise value to make it available to the next\n",
              "    // step of the generator.\n",
              "    outputElement.lastPromiseValue = value;\n",
              "    return next.value.response;\n",
              "  });\n",
              "}\n",
              "\n",
              "/**\n",
              " * Generator function which is called between each async step of the upload\n",
              " * process.\n",
              " * @param {string} inputId Element ID of the input file picker element.\n",
              " * @param {string} outputId Element ID of the output display.\n",
              " * @return {!Iterable<!Object>} Iterable of next steps.\n",
              " */\n",
              "function* uploadFilesStep(inputId, outputId) {\n",
              "  const inputElement = document.getElementById(inputId);\n",
              "  inputElement.disabled = false;\n",
              "\n",
              "  const outputElement = document.getElementById(outputId);\n",
              "  outputElement.innerHTML = '';\n",
              "\n",
              "  const pickedPromise = new Promise((resolve) => {\n",
              "    inputElement.addEventListener('change', (e) => {\n",
              "      resolve(e.target.files);\n",
              "    });\n",
              "  });\n",
              "\n",
              "  const cancel = document.createElement('button');\n",
              "  inputElement.parentElement.appendChild(cancel);\n",
              "  cancel.textContent = 'Cancel upload';\n",
              "  const cancelPromise = new Promise((resolve) => {\n",
              "    cancel.onclick = () => {\n",
              "      resolve(null);\n",
              "    };\n",
              "  });\n",
              "\n",
              "  // Wait for the user to pick the files.\n",
              "  const files = yield {\n",
              "    promise: Promise.race([pickedPromise, cancelPromise]),\n",
              "    response: {\n",
              "      action: 'starting',\n",
              "    }\n",
              "  };\n",
              "\n",
              "  cancel.remove();\n",
              "\n",
              "  // Disable the input element since further picks are not allowed.\n",
              "  inputElement.disabled = true;\n",
              "\n",
              "  if (!files) {\n",
              "    return {\n",
              "      response: {\n",
              "        action: 'complete',\n",
              "      }\n",
              "    };\n",
              "  }\n",
              "\n",
              "  for (const file of files) {\n",
              "    const li = document.createElement('li');\n",
              "    li.append(span(file.name, {fontWeight: 'bold'}));\n",
              "    li.append(span(\n",
              "        `(${file.type || 'n/a'}) - ${file.size} bytes, ` +\n",
              "        `last modified: ${\n",
              "            file.lastModifiedDate ? file.lastModifiedDate.toLocaleDateString() :\n",
              "                                    'n/a'} - `));\n",
              "    const percent = span('0% done');\n",
              "    li.appendChild(percent);\n",
              "\n",
              "    outputElement.appendChild(li);\n",
              "\n",
              "    const fileDataPromise = new Promise((resolve) => {\n",
              "      const reader = new FileReader();\n",
              "      reader.onload = (e) => {\n",
              "        resolve(e.target.result);\n",
              "      };\n",
              "      reader.readAsArrayBuffer(file);\n",
              "    });\n",
              "    // Wait for the data to be ready.\n",
              "    let fileData = yield {\n",
              "      promise: fileDataPromise,\n",
              "      response: {\n",
              "        action: 'continue',\n",
              "      }\n",
              "    };\n",
              "\n",
              "    // Use a chunked sending to avoid message size limits. See b/62115660.\n",
              "    let position = 0;\n",
              "    do {\n",
              "      const length = Math.min(fileData.byteLength - position, MAX_PAYLOAD_SIZE);\n",
              "      const chunk = new Uint8Array(fileData, position, length);\n",
              "      position += length;\n",
              "\n",
              "      const base64 = btoa(String.fromCharCode.apply(null, chunk));\n",
              "      yield {\n",
              "        response: {\n",
              "          action: 'append',\n",
              "          file: file.name,\n",
              "          data: base64,\n",
              "        },\n",
              "      };\n",
              "\n",
              "      let percentDone = fileData.byteLength === 0 ?\n",
              "          100 :\n",
              "          Math.round((position / fileData.byteLength) * 100);\n",
              "      percent.textContent = `${percentDone}% done`;\n",
              "\n",
              "    } while (position < fileData.byteLength);\n",
              "  }\n",
              "\n",
              "  // All done.\n",
              "  yield {\n",
              "    response: {\n",
              "      action: 'complete',\n",
              "    }\n",
              "  };\n",
              "}\n",
              "\n",
              "scope.google = scope.google || {};\n",
              "scope.google.colab = scope.google.colab || {};\n",
              "scope.google.colab._files = {\n",
              "  _uploadFiles,\n",
              "  _uploadFilesContinue,\n",
              "};\n",
              "})(self);\n",
              "</script> "
            ]
          },
          "metadata": {}
        },
        {
          "output_type": "stream",
          "name": "stdout",
          "text": [
            "Saving kaggle.json to kaggle.json\n"
          ]
        }
      ]
    },
    {
      "cell_type": "code",
      "source": [
        "!kaggle datasets download -d dgomonov/new-york-city-airbnb-open-data"
      ],
      "metadata": {
        "colab": {
          "base_uri": "https://localhost:8080/"
        },
        "id": "ycr1tMl71Mgz",
        "outputId": "15e577e1-469f-4528-d248-3f903bf8e59e"
      },
      "execution_count": 4,
      "outputs": [
        {
          "output_type": "stream",
          "name": "stdout",
          "text": [
            "Dataset URL: https://www.kaggle.com/datasets/dgomonov/new-york-city-airbnb-open-data\n",
            "License(s): CC0-1.0\n",
            "Downloading new-york-city-airbnb-open-data.zip to /content\n",
            " 82% 2.00M/2.44M [00:00<00:00, 3.67MB/s]\n",
            "100% 2.44M/2.44M [00:00<00:00, 3.80MB/s]\n"
          ]
        }
      ]
    },
    {
      "cell_type": "code",
      "source": [
        "!unzip /content/new-york-city-airbnb-open-data.zip"
      ],
      "metadata": {
        "colab": {
          "base_uri": "https://localhost:8080/"
        },
        "id": "Hkb9C22z22yE",
        "outputId": "df8f0eb0-b91f-4b8b-e3f9-ef50b0768d57"
      },
      "execution_count": 8,
      "outputs": [
        {
          "output_type": "stream",
          "name": "stdout",
          "text": [
            "Archive:  /content/new-york-city-airbnb-open-data.zip\n",
            "  inflating: AB_NYC_2019.csv         \n",
            "  inflating: New_York_City_.png      \n"
          ]
        }
      ]
    },
    {
      "cell_type": "code",
      "source": [
        "import pandas as pd\n",
        "import numpy as np\n",
        "import sqlite3"
      ],
      "metadata": {
        "id": "NnR6oXHNG6Ff"
      },
      "execution_count": 5,
      "outputs": []
    },
    {
      "cell_type": "markdown",
      "source": [
        "###  1.2: Connect to the Database\n",
        "\n",
        "Next, establish a connection to the SQLite database named 'airbnb.db'.\n",
        "Use the sqlite3 library to create a connection object and store it in a variable called 'conn'.\n"
      ],
      "metadata": {
        "id": "qSERoLykixcz"
      }
    },
    {
      "cell_type": "code",
      "source": [
        "\n",
        "\n",
        "# Connect to the SQLite database\n",
        "conn = sqlite3.connect('airbnb.db')\n",
        "cursor = conn.cursor()"
      ],
      "metadata": {
        "id": "8G9tDLd2iyq7"
      },
      "execution_count": 6,
      "outputs": []
    },
    {
      "cell_type": "markdown",
      "source": [
        "# Section 2: Loading the Dataset <a name=\"loading-dataset\"></a>"
      ],
      "metadata": {
        "id": "gCE_OEk5BrF2"
      }
    },
    {
      "cell_type": "markdown",
      "source": [
        "###  2.1: Load the Dataset\n",
        "- We work with the 'listings' table from the New York City Airbnb dataset.\n",
        "- Load the dataset from the CSV file 'AB_NYC_2019.csv' into a DataFrame named 'df'.\n",
        "- Then, import the DataFrame into the 'listings' table in the database using the to_sql() method.\n",
        "\n",
        "\\\\\n",
        "\n",
        "Use the read_csv() method from pandas to read the CSV file.\n"
      ],
      "metadata": {
        "id": "_bXjXLHli0aE"
      }
    },
    {
      "cell_type": "code",
      "source": [
        "\n",
        "\n",
        "# Load the dataset into the SQLite database\n",
        "data_path = '/content/AB_NYC_2019.csv'\n",
        "df = pd.read_csv(data_path)\n",
        "df.to_sql('listings', conn, if_exists='replace', index=False)"
      ],
      "metadata": {
        "id": "blwNI_PEi5FT",
        "colab": {
          "base_uri": "https://localhost:8080/"
        },
        "outputId": "3a989d50-df99-4eff-bb54-50cccae52c37"
      },
      "execution_count": 9,
      "outputs": [
        {
          "output_type": "execute_result",
          "data": {
            "text/plain": [
              "48895"
            ]
          },
          "metadata": {},
          "execution_count": 9
        }
      ]
    },
    {
      "cell_type": "markdown",
      "source": [
        "# Section 3: Intermediate SQL Tasks <a name=\"sql-queries\"></a>\n",
        "\n",
        "Query the database using SQL queries to analyze the data in the SQLite database. You can use the sqlite3 library to execute the queries and fetch the results."
      ],
      "metadata": {
        "id": "1j3xgaK4Ck3S"
      }
    },
    {
      "cell_type": "markdown",
      "source": [
        "###  3.1: Using Subquery for Aggregation\n",
        "- Find listings with a price greater than or equal to the maximum price of entire home/apartment listings."
      ],
      "metadata": {
        "id": "eKaLdB8Fi7Bh"
      }
    },
    {
      "cell_type": "code",
      "source": [
        "df['room_type'].unique()"
      ],
      "metadata": {
        "colab": {
          "base_uri": "https://localhost:8080/"
        },
        "id": "KkLT1Gh93_mC",
        "outputId": "67cc22ca-ed16-4bac-b9ea-bc7ee990dafa"
      },
      "execution_count": 12,
      "outputs": [
        {
          "output_type": "execute_result",
          "data": {
            "text/plain": [
              "array(['Private room', 'Entire home/apt', 'Shared room'], dtype=object)"
            ]
          },
          "metadata": {},
          "execution_count": 12
        }
      ]
    },
    {
      "cell_type": "code",
      "source": [
        "#   the query by adding the SELECT, WHERE, and LIMIT statement\n",
        "\n",
        "query = \"\"\"  SELECT id, name, neighbourhood_group, price from listings\n",
        "\n",
        "\n",
        " WHERE price >= (select max(price) from listings where room_type='Entire home/apt')\n",
        "\n",
        "\n",
        "LIMIT 5;\n",
        "\"\"\""
      ],
      "metadata": {
        "id": "gqe3KmtUCr9V"
      },
      "execution_count": 15,
      "outputs": []
    },
    {
      "cell_type": "code",
      "source": [
        "\n",
        "\n",
        "result = pd.read_sql_query(query, conn)\n",
        "print(\"\\n - Using Subquery for Aggregation:\")\n",
        "print(result)"
      ],
      "metadata": {
        "colab": {
          "base_uri": "https://localhost:8080/"
        },
        "id": "6fib2hIqjKWr",
        "outputId": "040fa9f8-395a-4839-c0b7-6f8be6738a29"
      },
      "execution_count": 16,
      "outputs": [
        {
          "output_type": "stream",
          "name": "stdout",
          "text": [
            "\n",
            "Example 2 - Using Subquery for Aggregation:\n",
            "         id                                             name  \\\n",
            "0   7003697              Furnished room in Astoria apartment   \n",
            "1  13894339  Luxury 1 bedroom apt. -stunning Manhattan views   \n",
            "2  22436899                              1-BR Lincoln Center   \n",
            "\n",
            "  neighbourhood_group  price  \n",
            "0              Queens  10000  \n",
            "1            Brooklyn  10000  \n",
            "2           Manhattan  10000  \n"
          ]
        }
      ]
    },
    {
      "cell_type": "markdown",
      "source": [
        "###  3.2: Using CTE for Clarity\n",
        "- Create a [Common Table Expression (CTE)](https://learnsql.com/blog/what-is-common-table-expression/) for high-priced listings and retrieve details."
      ],
      "metadata": {
        "id": "0O4Nfb9yC61D"
      }
    },
    {
      "cell_type": "code",
      "source": [
        "#  Complete the query by first finishing the CTE query  by adding the WHERE statement. Then complete the following SELECT AND FROM statements.\n",
        "\n",
        "query = \"\"\"\n",
        "\n",
        "-- Create a common table expression (CTE) to select high-priced listings greater than 500\n",
        "WITH high_price_listings AS (\n",
        "    SELECT *\n",
        "    FROM listings\n",
        "    WHERE  price > 500 )\n",
        "\n",
        "-- Select specific columns (id, name, neighbourhood_group, price) from high-priced listings\n",
        "-- Limit the results to display only the top 5 listings\n",
        "\n",
        "SELECT id, name, neighbourhood_group, price FROM  high_price_listings LIMIT 5;\n",
        "\"\"\""
      ],
      "metadata": {
        "id": "4fJa4Bt6C7Nw"
      },
      "execution_count": 27,
      "outputs": []
    },
    {
      "cell_type": "code",
      "source": [
        "\n",
        "\n",
        "result = pd.read_sql_query(query, conn)\n",
        "print(\"\\n Using CTE for Clarity:\")\n",
        "print(result)"
      ],
      "metadata": {
        "colab": {
          "base_uri": "https://localhost:8080/"
        },
        "id": "9IJ5ReZblaE5",
        "outputId": "1b45bde7-093f-45c9-f0e1-2ef46327705c"
      },
      "execution_count": 28,
      "outputs": [
        {
          "output_type": "stream",
          "name": "stdout",
          "text": [
            "\n",
            " Using CTE for Clarity:\n",
            "       id                                   name neighbourhood_group  price\n",
            "0   19601    perfect for a family or small group            Brooklyn    800\n",
            "1   68974     Unique spacious loft on the Bowery           Manhattan    575\n",
            "2   89427                   The Brooklyn Waverly            Brooklyn    650\n",
            "3  103311      2 BR w/ Terrace @ Box House Hotel            Brooklyn    599\n",
            "4  174966  Luxury 2Bed/2.5Bath Central Park View           Manhattan   2000\n"
          ]
        }
      ]
    },
    {
      "cell_type": "markdown",
      "source": [
        "###  3.3: Using GROUP BY and HAVING\n",
        "-  Count the number of listings in each neighbourhood_group with more than 1000 listings."
      ],
      "metadata": {
        "id": "uULLKoO0DEou"
      }
    },
    {
      "cell_type": "code",
      "source": [
        "# :  the GROUP_BY and the HAVING COUNT statement to 1000 listings\n",
        "\n",
        "query = \"\"\"SELECT neighbourhood_group, COUNT(*) AS num_listings\n",
        "FROM listings\n",
        "GROUP BY neighbourhood_group\n",
        "HAVING COUNT(*) >1000;\n",
        "\"\"\""
      ],
      "metadata": {
        "id": "EDnyQuz1DDin"
      },
      "execution_count": 38,
      "outputs": []
    },
    {
      "cell_type": "code",
      "source": [
        "\n",
        "\n",
        "result = pd.read_sql_query(query, conn)\n",
        "print(\"\\n - Using GROUP BY and HAVING:\")\n",
        "print(result)"
      ],
      "metadata": {
        "colab": {
          "base_uri": "https://localhost:8080/"
        },
        "id": "ZGIUx6pn1ZpM",
        "outputId": "2097cb4a-8fe0-4533-9b87-1cfa7773e9e1"
      },
      "execution_count": 39,
      "outputs": [
        {
          "output_type": "stream",
          "name": "stdout",
          "text": [
            "\n",
            " - Using GROUP BY and HAVING:\n",
            "  neighbourhood_group  num_listings\n",
            "0               Bronx          1091\n",
            "1            Brooklyn         20104\n",
            "2           Manhattan         21661\n",
            "3              Queens          5666\n"
          ]
        }
      ]
    },
    {
      "cell_type": "markdown",
      "source": [
        "###  3.4: Using [CASE Statements](https://www.w3schools.com/sql/sql_case.asp)\n",
        "- Calculate the count of listings in each neighborhood group categorized into three price ranges: cheap, moderate, and expensive.\n"
      ],
      "metadata": {
        "id": "yPvuIfq7DMhj"
      }
    },
    {
      "cell_type": "code",
      "source": [
        "#  the third case switch statement for expensive_listings and insert GROUP BY statement\n",
        "\n",
        "query = \"\"\"\n",
        "\n",
        "-- Select the neighborhood_group and use conditional aggregation to count listings in price ranges\n",
        "SELECT neighbourhood_group,\n",
        "       SUM(CASE WHEN price <= 100 THEN 1 ELSE 0 END) AS cheap_listings,\n",
        "       SUM(CASE WHEN price > 100 AND price <= 200 THEN 1 ELSE 0 END) AS moderate_listings,\n",
        "       SUM( CASE WHEN price > 200 THEN 1 ELSE 0 END) AS expensive_listings\n",
        "FROM listings\n",
        "\n",
        "-- Group the data by neighborhood_group to get counts for each group\n",
        "GROUP BY neighbourhood_group;\n",
        "\"\"\""
      ],
      "metadata": {
        "id": "U1r32q1rDOil"
      },
      "execution_count": 44,
      "outputs": []
    },
    {
      "cell_type": "code",
      "source": [
        "\n",
        "\n",
        "result = pd.read_sql_query(query, conn)\n",
        "print(\"\\nExample 5 - Using CASE Statements:\")\n",
        "print(result)"
      ],
      "metadata": {
        "colab": {
          "base_uri": "https://localhost:8080/"
        },
        "id": "s93h67wkDR6r",
        "outputId": "7ddc4aea-232c-468d-c680-000746d8e510"
      },
      "execution_count": 45,
      "outputs": [
        {
          "output_type": "stream",
          "name": "stdout",
          "text": [
            "\n",
            "Example 5 - Using CASE Statements:\n",
            "  neighbourhood_group  cheap_listings  moderate_listings  expensive_listings\n",
            "0               Bronx             865                181                  45\n",
            "1            Brooklyn           11771               6278                2055\n",
            "2           Manhattan            6921               8803                5937\n",
            "3              Queens            4101               1243                 322\n",
            "4       Staten Island             270                 78                  25\n"
          ]
        }
      ]
    },
    {
      "cell_type": "markdown",
      "source": [
        "From the above, it is found that :\n",
        "expensive_listings, moderate_listings   are more in Manhattan and cheap_listings  in Brooklyn are more than in any other groups."
      ],
      "metadata": {
        "id": "QI5OfkS1-a-5"
      }
    },
    {
      "cell_type": "markdown",
      "source": [
        "###  3.5: Using [Self-Join](https://www.w3schools.com/sql/sql_join_self.asp) for Data Comparison\n",
        "- Compare the average price of each neighborhood's listings with the overall average price, highlighting neighborhoods with prices higher than the overall average."
      ],
      "metadata": {
        "id": "nIWy051Y2j7h"
      }
    },
    {
      "cell_type": "code",
      "source": [
        "query = \"\"\"\n",
        "-- Create a common table expression (CTE) to calculate the average prices for each neighborhood\n",
        "WITH  avg_prices AS (\n",
        "    SELECT neighbourhood, AVG(price) AS avg_price\n",
        "    FROM listings\n",
        "    GROUP BY neighbourhood\n",
        ")\n",
        "\n",
        "-- Select the neighborhood, its average price, and the overall average price\n",
        "SELECT a.neighbourhood, a.avg_price, b.overall_avg_price\n",
        "FROM avg_prices AS a\n",
        "\n",
        "-- Self-join with a subquery to retrieve the overall average price\n",
        "INNER JOIN ( SELECT AVG(price)  AS overall_avg_price FROM listings) AS b  -- No need to group in the subquery for overall average\n",
        "ON 1=1  -- Join condition not needed for overall average comparison\n",
        "WHERE a.avg_price > b.overall_avg_price\n",
        "\"\"\"\n",
        "\n",
        "result = pd.read_sql_query(query, conn)\n",
        "print(\" Using Self-Join for Data Comparison:\")\n",
        "print(result)"
      ],
      "metadata": {
        "colab": {
          "base_uri": "https://localhost:8080/"
        },
        "id": "ZA-AnnrQCRfA",
        "outputId": "794882e6-2195-44e6-b641-8cdd0a84295f"
      },
      "execution_count": 58,
      "outputs": [
        {
          "output_type": "stream",
          "name": "stdout",
          "text": [
            " Using Self-Join for Data Comparison:\n",
            "         neighbourhood   avg_price  overall_avg_price\n",
            "0              Arverne  171.779221         152.720687\n",
            "1    Battery Park City  367.557143         152.720687\n",
            "2              Bayside  157.948718         152.720687\n",
            "3         Belle Harbor  171.500000         152.720687\n",
            "4          Boerum Hill  176.135593         152.720687\n",
            "5         Breezy Point  213.333333         152.720687\n",
            "6     Brooklyn Heights  209.064935         152.720687\n",
            "7      Carroll Gardens  175.914163         152.720687\n",
            "8              Chelsea  249.738544         152.720687\n",
            "9            Chinatown  161.497283         152.720687\n",
            "10         City Island  173.000000         152.720687\n",
            "11        Civic Center  191.942308         152.720687\n",
            "12        Clinton Hill  181.893357         152.720687\n",
            "13         Cobble Hill  211.929293         152.720687\n",
            "14         Columbia St  162.952381         152.720687\n",
            "15               DUMBO  196.305556         152.720687\n",
            "16        East Village  186.083108         152.720687\n",
            "17        Far Rockaway  165.862069         152.720687\n",
            "18  Financial District  225.490591         152.720687\n",
            "19   Flatiron District  341.925000         152.720687\n",
            "20      Fort Wadsworth  800.000000         152.720687\n",
            "21             Gowanus  158.801619         152.720687\n",
            "22            Gramercy  222.754438         152.720687\n",
            "23   Greenwich Village  263.405612         152.720687\n",
            "24         Grymes Hill  159.142857         152.720687\n",
            "25      Hell's Kitchen  204.794178         152.720687\n",
            "26     Jamaica Estates  182.947368         152.720687\n",
            "27            Kips Bay  202.408511         152.720687\n",
            "28     Lighthouse Hill  157.500000         152.720687\n",
            "29        Little Italy  222.066116         152.720687\n",
            "30     Lower East Side  186.312843         152.720687\n",
            "31             Midtown  282.719094         152.720687\n",
            "32          Mill Basin  179.750000         152.720687\n",
            "33         Murray Hill  220.958763         152.720687\n",
            "34            Neponsit  274.666667         152.720687\n",
            "35                NoHo  295.717949         152.720687\n",
            "36              Nolita  230.138340         152.720687\n",
            "37          Park Slope  176.312253         152.720687\n",
            "38        Prince's Bay  409.500000         152.720687\n",
            "39    Prospect Heights  173.372549         152.720687\n",
            "40       Randall Manor  336.000000         152.720687\n",
            "41           Riverdale  442.090909         152.720687\n",
            "42            Sea Gate  487.857143         152.720687\n",
            "43                SoHo  287.103352         152.720687\n",
            "44      Spuyten Duyvil  154.750000         152.720687\n",
            "45     Stuyvesant Town  169.108108         152.720687\n",
            "46    Theater District  248.013889         152.720687\n",
            "47           Todt Hill  169.000000         152.720687\n",
            "48             Tribeca  490.638418         152.720687\n",
            "49     Upper East Side  188.948276         152.720687\n",
            "50     Upper West Side  210.918316         152.720687\n",
            "51        Vinegar Hill  187.176471         152.720687\n",
            "52        West Village  267.682292         152.720687\n",
            "53         Willowbrook  249.000000         152.720687\n",
            "54             Woodrow  700.000000         152.720687\n"
          ]
        }
      ]
    },
    {
      "cell_type": "code",
      "source": [
        "\n",
        "\n",
        "result = pd.read_sql_query(query, conn)\n",
        "print(\" Using Self-Join for Data Comparison:\")\n",
        "print(result)"
      ],
      "metadata": {
        "colab": {
          "base_uri": "https://localhost:8080/"
        },
        "id": "BOZr1Ty02YHk",
        "outputId": "33a710b6-0fa0-419c-d3ba-99114e539641"
      },
      "execution_count": 59,
      "outputs": [
        {
          "output_type": "stream",
          "name": "stdout",
          "text": [
            " Using Self-Join for Data Comparison:\n",
            "         neighbourhood   avg_price  overall_avg_price\n",
            "0              Arverne  171.779221         152.720687\n",
            "1    Battery Park City  367.557143         152.720687\n",
            "2              Bayside  157.948718         152.720687\n",
            "3         Belle Harbor  171.500000         152.720687\n",
            "4          Boerum Hill  176.135593         152.720687\n",
            "5         Breezy Point  213.333333         152.720687\n",
            "6     Brooklyn Heights  209.064935         152.720687\n",
            "7      Carroll Gardens  175.914163         152.720687\n",
            "8              Chelsea  249.738544         152.720687\n",
            "9            Chinatown  161.497283         152.720687\n",
            "10         City Island  173.000000         152.720687\n",
            "11        Civic Center  191.942308         152.720687\n",
            "12        Clinton Hill  181.893357         152.720687\n",
            "13         Cobble Hill  211.929293         152.720687\n",
            "14         Columbia St  162.952381         152.720687\n",
            "15               DUMBO  196.305556         152.720687\n",
            "16        East Village  186.083108         152.720687\n",
            "17        Far Rockaway  165.862069         152.720687\n",
            "18  Financial District  225.490591         152.720687\n",
            "19   Flatiron District  341.925000         152.720687\n",
            "20      Fort Wadsworth  800.000000         152.720687\n",
            "21             Gowanus  158.801619         152.720687\n",
            "22            Gramercy  222.754438         152.720687\n",
            "23   Greenwich Village  263.405612         152.720687\n",
            "24         Grymes Hill  159.142857         152.720687\n",
            "25      Hell's Kitchen  204.794178         152.720687\n",
            "26     Jamaica Estates  182.947368         152.720687\n",
            "27            Kips Bay  202.408511         152.720687\n",
            "28     Lighthouse Hill  157.500000         152.720687\n",
            "29        Little Italy  222.066116         152.720687\n",
            "30     Lower East Side  186.312843         152.720687\n",
            "31             Midtown  282.719094         152.720687\n",
            "32          Mill Basin  179.750000         152.720687\n",
            "33         Murray Hill  220.958763         152.720687\n",
            "34            Neponsit  274.666667         152.720687\n",
            "35                NoHo  295.717949         152.720687\n",
            "36              Nolita  230.138340         152.720687\n",
            "37          Park Slope  176.312253         152.720687\n",
            "38        Prince's Bay  409.500000         152.720687\n",
            "39    Prospect Heights  173.372549         152.720687\n",
            "40       Randall Manor  336.000000         152.720687\n",
            "41           Riverdale  442.090909         152.720687\n",
            "42            Sea Gate  487.857143         152.720687\n",
            "43                SoHo  287.103352         152.720687\n",
            "44      Spuyten Duyvil  154.750000         152.720687\n",
            "45     Stuyvesant Town  169.108108         152.720687\n",
            "46    Theater District  248.013889         152.720687\n",
            "47           Todt Hill  169.000000         152.720687\n",
            "48             Tribeca  490.638418         152.720687\n",
            "49     Upper East Side  188.948276         152.720687\n",
            "50     Upper West Side  210.918316         152.720687\n",
            "51        Vinegar Hill  187.176471         152.720687\n",
            "52        West Village  267.682292         152.720687\n",
            "53         Willowbrook  249.000000         152.720687\n",
            "54             Woodrow  700.000000         152.720687\n"
          ]
        }
      ]
    },
    {
      "cell_type": "markdown",
      "source": [
        "# Section 4: Closing the Database Connection <a name=\"closing-connection\"></a>"
      ],
      "metadata": {
        "id": "CyaxVtAuDyDd"
      }
    },
    {
      "cell_type": "markdown",
      "source": [
        "###  4.1: Close the Cursor and Database Connection\n",
        "- It's good practice to close the cursor and the database connection when you're done working with the database to free up system resources and maintain proper connection management.\n"
      ],
      "metadata": {
        "id": "nFKyd0DbD4Ns"
      }
    },
    {
      "cell_type": "code",
      "source": [
        "\n",
        "\n",
        "# Make sure to include these lines of code at the end of your script to properly close the cursor and database connection.\n",
        "cursor.close()\n",
        "conn.close()"
      ],
      "metadata": {
        "id": "_z_H6ZsmD2GX"
      },
      "execution_count": null,
      "outputs": []
    },
    {
      "cell_type": "markdown",
      "source": [
        "# Section 5: Summary of Basic SQL Commands <a name=\"summary-commands\"></a>"
      ],
      "metadata": {
        "id": "5tOYpl9rVXV2"
      }
    },
    {
      "cell_type": "markdown",
      "source": [
        " Below is a summary of the basic SQL commands used:\n",
        "\n",
        "** 1.2: Connect to the Database**\n",
        "- Established a connection to the SQLite database.\n",
        "\n",
        "** 2.1: Load the Dataset**\n",
        "- Loaded the dataset into a DataFrame.\n",
        "- Imported the DataFrame into the database.\n",
        "\n",
        "** 3.1: Using Subquery for Aggregation**\n",
        "- SQL Commands: SELECT, FROM, WHERE, Subquery, MAX(), LIMIT\n",
        "- Description: Find listings with a price greater than or equal to the maximum price of entire home/apartment listings.\n",
        "\n",
        "** 3.2: Using CTE for Clarity**\n",
        "- SQL Commands: WITH, Common Table Expression (CTE), SELECT, FROM, LIMIT\n",
        "- Description: Create a Common Table Expression (CTE) for high-priced listings and retrieve details.\n",
        "\n",
        "** 3.3: Using GROUP BY and HAVING**\n",
        "- SQL Commands: SELECT, COUNT(), AS, FROM, GROUP BY, HAVING\n",
        "- Description: Count the number of listings in each neighbourhood_group with more than 1000 listings.\n",
        "\n",
        "** 3.4: Using CASE Statements**\n",
        "- SQL Commands: SELECT, SUM(), CASE, WHEN, THEN, ELSE, END, AS, FROM, GROUP BY\n",
        "- Description: Calculate the count of listings in each neighborhood group categorized into three price ranges: cheap, moderate, and expensive.\n",
        "\n",
        "** 3.5: Using Self-Join for Data Comparison**\n",
        "- SQL Commands: WITH, Common Table Expression (CTE), SELECT, AVG(), AS, INNER JOIN, ON, Self-Join, WHERE\n",
        "- Description: Compare the average price of each neighborhood's listings with the overall average price, highlighting neighborhoods with prices higher than the overall average.\n",
        "\n",
        "** 4.1: Close the Cursor and Database Connection**\n",
        "- Closed the cursor and the database connection.\n",
        "\n",
        "This summary provides an overview of the intermediate SQL commands used in this project on data analysis tasks."
      ],
      "metadata": {
        "id": "wS_xxvBKVTha"
      }
    },
    {
      "cell_type": "markdown",
      "source": [
        "**THE END**"
      ],
      "metadata": {
        "id": "uJWoXRmEESFI"
      }
    }
  ]
}