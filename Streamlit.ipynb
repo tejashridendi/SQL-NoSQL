{
  "nbformat": 4,
  "nbformat_minor": 0,
  "metadata": {
    "colab": {
      "provenance": [],
      "authorship_tag": "ABX9TyN3KKhnOozOPr3UQQOqTFQl",
      "include_colab_link": true
    },
    "kernelspec": {
      "name": "python3",
      "display_name": "Python 3"
    },
    "language_info": {
      "name": "python"
    }
  },
  "cells": [
    {
      "cell_type": "markdown",
      "metadata": {
        "id": "view-in-github",
        "colab_type": "text"
      },
      "source": [
        "<a href=\"https://colab.research.google.com/github/tejashridendi/SQL_Queries/blob/main/Streamlit.ipynb\" target=\"_parent\"><img src=\"https://colab.research.google.com/assets/colab-badge.svg\" alt=\"Open In Colab\"/></a>"
      ]
    },
    {
      "cell_type": "code",
      "execution_count": 116,
      "metadata": {
        "id": "khPBr0jYoJrR",
        "colab": {
          "base_uri": "https://localhost:8080/"
        },
        "outputId": "573a7379-b4f2-4ad4-d523-0b7be19b076e"
      },
      "outputs": [
        {
          "output_type": "stream",
          "name": "stdout",
          "text": [
            "Mounted at /content/gdrive\n"
          ]
        }
      ],
      "source": [
        "from google.colab import drive\n",
        "drive.mount('/content/gdrive')"
      ]
    },
    {
      "cell_type": "code",
      "source": [
        "!pip install  streamlit==1.13.0"
      ],
      "metadata": {
        "colab": {
          "base_uri": "https://localhost:8080/"
        },
        "id": "yMCgMbEBoLfT",
        "outputId": "5fa6a941-c9bf-4ff0-b331-1806b1d8b4b4"
      },
      "execution_count": 1,
      "outputs": [
        {
          "output_type": "stream",
          "name": "stdout",
          "text": [
            "Looking in indexes: https://pypi.org/simple, https://us-python.pkg.dev/colab-wheels/public/simple/\n",
            "Collecting streamlit==1.13.0\n",
            "  Downloading streamlit-1.13.0-py2.py3-none-any.whl (9.2 MB)\n",
            "\u001b[K     |████████████████████████████████| 9.2 MB 27.6 MB/s \n",
            "\u001b[?25hRequirement already satisfied: requests>=2.4 in /usr/local/lib/python3.7/dist-packages (from streamlit==1.13.0) (2.23.0)\n",
            "Collecting semver\n",
            "  Downloading semver-2.13.0-py2.py3-none-any.whl (12 kB)\n",
            "Requirement already satisfied: python-dateutil in /usr/local/lib/python3.7/dist-packages (from streamlit==1.13.0) (2.8.2)\n",
            "Requirement already satisfied: importlib-metadata>=1.4 in /usr/local/lib/python3.7/dist-packages (from streamlit==1.13.0) (4.13.0)\n",
            "Collecting pympler>=0.9\n",
            "  Downloading Pympler-1.0.1-py3-none-any.whl (164 kB)\n",
            "\u001b[K     |████████████████████████████████| 164 kB 95.5 MB/s \n",
            "\u001b[?25hRequirement already satisfied: toml in /usr/local/lib/python3.7/dist-packages (from streamlit==1.13.0) (0.10.2)\n",
            "Requirement already satisfied: tzlocal>=1.1 in /usr/local/lib/python3.7/dist-packages (from streamlit==1.13.0) (1.5.1)\n",
            "Requirement already satisfied: protobuf!=3.20.2,<4,>=3.12 in /usr/local/lib/python3.7/dist-packages (from streamlit==1.13.0) (3.19.6)\n",
            "Requirement already satisfied: click>=7.0 in /usr/local/lib/python3.7/dist-packages (from streamlit==1.13.0) (7.1.2)\n",
            "Collecting rich>=10.11.0\n",
            "  Downloading rich-12.6.0-py3-none-any.whl (237 kB)\n",
            "\u001b[K     |████████████████████████████████| 237 kB 69.4 MB/s \n",
            "\u001b[?25hCollecting watchdog\n",
            "  Downloading watchdog-2.1.9-py3-none-manylinux2014_x86_64.whl (78 kB)\n",
            "\u001b[K     |████████████████████████████████| 78 kB 8.1 MB/s \n",
            "\u001b[?25hCollecting gitpython!=3.1.19\n",
            "  Downloading GitPython-3.1.29-py3-none-any.whl (182 kB)\n",
            "\u001b[K     |████████████████████████████████| 182 kB 75.7 MB/s \n",
            "\u001b[?25hRequirement already satisfied: pillow>=6.2.0 in /usr/local/lib/python3.7/dist-packages (from streamlit==1.13.0) (7.1.2)\n",
            "Requirement already satisfied: cachetools>=4.0 in /usr/local/lib/python3.7/dist-packages (from streamlit==1.13.0) (5.2.0)\n",
            "Collecting pydeck>=0.1.dev5\n",
            "  Downloading pydeck-0.8.0-py2.py3-none-any.whl (4.7 MB)\n",
            "\u001b[K     |████████████████████████████████| 4.7 MB 96.6 MB/s \n",
            "\u001b[?25hRequirement already satisfied: numpy in /usr/local/lib/python3.7/dist-packages (from streamlit==1.13.0) (1.21.6)\n",
            "Requirement already satisfied: packaging>=14.1 in /usr/local/lib/python3.7/dist-packages (from streamlit==1.13.0) (21.3)\n",
            "Requirement already satisfied: altair>=3.2.0 in /usr/local/lib/python3.7/dist-packages (from streamlit==1.13.0) (4.2.0)\n",
            "Requirement already satisfied: typing-extensions>=3.10.0.0 in /usr/local/lib/python3.7/dist-packages (from streamlit==1.13.0) (4.1.1)\n",
            "Requirement already satisfied: pyarrow>=4.0 in /usr/local/lib/python3.7/dist-packages (from streamlit==1.13.0) (9.0.0)\n",
            "Requirement already satisfied: pandas>=0.21.0 in /usr/local/lib/python3.7/dist-packages (from streamlit==1.13.0) (1.3.5)\n",
            "Collecting validators>=0.2\n",
            "  Downloading validators-0.20.0.tar.gz (30 kB)\n",
            "Collecting blinker>=1.0.0\n",
            "  Downloading blinker-1.5-py2.py3-none-any.whl (12 kB)\n",
            "Requirement already satisfied: tornado>=5.0 in /usr/local/lib/python3.7/dist-packages (from streamlit==1.13.0) (6.0.4)\n",
            "Requirement already satisfied: entrypoints in /usr/local/lib/python3.7/dist-packages (from altair>=3.2.0->streamlit==1.13.0) (0.4)\n",
            "Requirement already satisfied: toolz in /usr/local/lib/python3.7/dist-packages (from altair>=3.2.0->streamlit==1.13.0) (0.12.0)\n",
            "Requirement already satisfied: jsonschema>=3.0 in /usr/local/lib/python3.7/dist-packages (from altair>=3.2.0->streamlit==1.13.0) (4.3.3)\n",
            "Requirement already satisfied: jinja2 in /usr/local/lib/python3.7/dist-packages (from altair>=3.2.0->streamlit==1.13.0) (2.11.3)\n",
            "Collecting gitdb<5,>=4.0.1\n",
            "  Downloading gitdb-4.0.10-py3-none-any.whl (62 kB)\n",
            "\u001b[K     |████████████████████████████████| 62 kB 1.7 MB/s \n",
            "\u001b[?25hCollecting smmap<6,>=3.0.1\n",
            "  Downloading smmap-5.0.0-py3-none-any.whl (24 kB)\n",
            "Requirement already satisfied: zipp>=0.5 in /usr/local/lib/python3.7/dist-packages (from importlib-metadata>=1.4->streamlit==1.13.0) (3.10.0)\n",
            "Requirement already satisfied: pyrsistent!=0.17.0,!=0.17.1,!=0.17.2,>=0.14.0 in /usr/local/lib/python3.7/dist-packages (from jsonschema>=3.0->altair>=3.2.0->streamlit==1.13.0) (0.19.2)\n",
            "Requirement already satisfied: importlib-resources>=1.4.0 in /usr/local/lib/python3.7/dist-packages (from jsonschema>=3.0->altair>=3.2.0->streamlit==1.13.0) (5.10.0)\n",
            "Requirement already satisfied: attrs>=17.4.0 in /usr/local/lib/python3.7/dist-packages (from jsonschema>=3.0->altair>=3.2.0->streamlit==1.13.0) (22.1.0)\n",
            "Requirement already satisfied: pyparsing!=3.0.5,>=2.0.2 in /usr/local/lib/python3.7/dist-packages (from packaging>=14.1->streamlit==1.13.0) (3.0.9)\n",
            "Requirement already satisfied: pytz>=2017.3 in /usr/local/lib/python3.7/dist-packages (from pandas>=0.21.0->streamlit==1.13.0) (2022.6)\n",
            "Requirement already satisfied: MarkupSafe>=0.23 in /usr/local/lib/python3.7/dist-packages (from jinja2->altair>=3.2.0->streamlit==1.13.0) (2.0.1)\n",
            "Requirement already satisfied: six>=1.5 in /usr/local/lib/python3.7/dist-packages (from python-dateutil->streamlit==1.13.0) (1.15.0)\n",
            "Requirement already satisfied: urllib3!=1.25.0,!=1.25.1,<1.26,>=1.21.1 in /usr/local/lib/python3.7/dist-packages (from requests>=2.4->streamlit==1.13.0) (1.24.3)\n",
            "Requirement already satisfied: certifi>=2017.4.17 in /usr/local/lib/python3.7/dist-packages (from requests>=2.4->streamlit==1.13.0) (2022.9.24)\n",
            "Requirement already satisfied: idna<3,>=2.5 in /usr/local/lib/python3.7/dist-packages (from requests>=2.4->streamlit==1.13.0) (2.10)\n",
            "Requirement already satisfied: chardet<4,>=3.0.2 in /usr/local/lib/python3.7/dist-packages (from requests>=2.4->streamlit==1.13.0) (3.0.4)\n",
            "Collecting commonmark<0.10.0,>=0.9.0\n",
            "  Downloading commonmark-0.9.1-py2.py3-none-any.whl (51 kB)\n",
            "\u001b[K     |████████████████████████████████| 51 kB 6.9 MB/s \n",
            "\u001b[?25hRequirement already satisfied: pygments<3.0.0,>=2.6.0 in /usr/local/lib/python3.7/dist-packages (from rich>=10.11.0->streamlit==1.13.0) (2.6.1)\n",
            "Requirement already satisfied: decorator>=3.4.0 in /usr/local/lib/python3.7/dist-packages (from validators>=0.2->streamlit==1.13.0) (4.4.2)\n",
            "Building wheels for collected packages: validators\n",
            "  Building wheel for validators (setup.py) ... \u001b[?25l\u001b[?25hdone\n",
            "  Created wheel for validators: filename=validators-0.20.0-py3-none-any.whl size=19581 sha256=b0d9bc9ee80900dda99ee36ad1e1143fbf8d1cc8d9a0dd290279184c68136ea2\n",
            "  Stored in directory: /root/.cache/pip/wheels/5f/55/ab/36a76989f7f88d9ca7b1f68da6d94252bb6a8d6ad4f18e04e9\n",
            "Successfully built validators\n",
            "Installing collected packages: smmap, gitdb, commonmark, watchdog, validators, semver, rich, pympler, pydeck, gitpython, blinker, streamlit\n",
            "Successfully installed blinker-1.5 commonmark-0.9.1 gitdb-4.0.10 gitpython-3.1.29 pydeck-0.8.0 pympler-1.0.1 rich-12.6.0 semver-2.13.0 smmap-5.0.0 streamlit-1.13.0 validators-0.20.0 watchdog-2.1.9\n"
          ]
        }
      ]
    },
    {
      "cell_type": "code",
      "source": [
        "!pip install pyngrok"
      ],
      "metadata": {
        "colab": {
          "base_uri": "https://localhost:8080/"
        },
        "id": "JvFqBK-RoN1F",
        "outputId": "be9dfcfd-4651-45c8-a1c9-b00b46d27939"
      },
      "execution_count": 2,
      "outputs": [
        {
          "output_type": "stream",
          "name": "stdout",
          "text": [
            "Looking in indexes: https://pypi.org/simple, https://us-python.pkg.dev/colab-wheels/public/simple/\n",
            "Collecting pyngrok\n",
            "  Downloading pyngrok-5.1.0.tar.gz (745 kB)\n",
            "\u001b[K     |████████████████████████████████| 745 kB 37.7 MB/s \n",
            "\u001b[?25hRequirement already satisfied: PyYAML in /usr/local/lib/python3.7/dist-packages (from pyngrok) (6.0)\n",
            "Building wheels for collected packages: pyngrok\n",
            "  Building wheel for pyngrok (setup.py) ... \u001b[?25l\u001b[?25hdone\n",
            "  Created wheel for pyngrok: filename=pyngrok-5.1.0-py3-none-any.whl size=19006 sha256=88829c9017e2e64ba030e5330f2a7c0d60a3ba80987d3cfc67ebbf17a596ae8d\n",
            "  Stored in directory: /root/.cache/pip/wheels/bf/e6/af/ccf6598ecefecd44104069371795cb9b3afbcd16987f6ccfb3\n",
            "Successfully built pyngrok\n",
            "Installing collected packages: pyngrok\n",
            "Successfully installed pyngrok-5.1.0\n"
          ]
        }
      ]
    },
    {
      "cell_type": "code",
      "source": [
        "!ngrok authtoken 2Hr44w9RTQv13CnhondmYLLJmE0_M6u4Vi4U3yrXogpGmqUe"
      ],
      "metadata": {
        "colab": {
          "base_uri": "https://localhost:8080/"
        },
        "id": "lVuJd0ktoRPg",
        "outputId": "53343785-498e-435e-def3-46cab1870f8d"
      },
      "execution_count": 3,
      "outputs": [
        {
          "output_type": "stream",
          "name": "stdout",
          "text": [
            "Authtoken saved to configuration file: /root/.ngrok2/ngrok.yml\n"
          ]
        }
      ]
    },
    {
      "cell_type": "code",
      "source": [
        "!pip install -q roboflow"
      ],
      "metadata": {
        "id": "FUQZx51FwFFs",
        "colab": {
          "base_uri": "https://localhost:8080/"
        },
        "outputId": "fa80fc5e-6631-41c3-a16e-be2b62a2f10d"
      },
      "execution_count": 4,
      "outputs": [
        {
          "output_type": "stream",
          "name": "stdout",
          "text": [
            "\u001b[K     |████████████████████████████████| 41 kB 724 kB/s \n",
            "\u001b[K     |████████████████████████████████| 138 kB 72.7 MB/s \n",
            "\u001b[K     |████████████████████████████████| 67 kB 7.1 MB/s \n",
            "\u001b[K     |████████████████████████████████| 178 kB 77.6 MB/s \n",
            "\u001b[K     |████████████████████████████████| 145 kB 57.4 MB/s \n",
            "\u001b[K     |████████████████████████████████| 54 kB 3.3 MB/s \n",
            "\u001b[K     |████████████████████████████████| 62 kB 1.8 MB/s \n",
            "\u001b[?25h  Building wheel for wget (setup.py) ... \u001b[?25l\u001b[?25hdone\n"
          ]
        }
      ]
    },
    {
      "cell_type": "code",
      "source": [
        "!pip install -r /content/sample_data/requirements.txt"
      ],
      "metadata": {
        "colab": {
          "base_uri": "https://localhost:8080/"
        },
        "id": "uD6jCmKDVVCB",
        "outputId": "3b684588-0506-481e-ab0c-3cf07080a9df"
      },
      "execution_count": 40,
      "outputs": [
        {
          "output_type": "stream",
          "name": "stdout",
          "text": [
            "Looking in indexes: https://pypi.org/simple, https://us-python.pkg.dev/colab-wheels/public/simple/\n",
            "Requirement already satisfied: gitpython in /usr/local/lib/python3.7/dist-packages (from -r /content/sample_data/requirements.txt (line 5)) (3.1.29)\n",
            "Requirement already satisfied: ipython in /usr/local/lib/python3.7/dist-packages (from -r /content/sample_data/requirements.txt (line 6)) (7.9.0)\n",
            "Requirement already satisfied: matplotlib>=3.2.2 in /usr/local/lib/python3.7/dist-packages (from -r /content/sample_data/requirements.txt (line 7)) (3.2.2)\n",
            "Requirement already satisfied: numpy>=1.18.5 in /usr/local/lib/python3.7/dist-packages (from -r /content/sample_data/requirements.txt (line 8)) (1.21.6)\n",
            "Requirement already satisfied: opencv-python>=4.1.1 in /usr/local/lib/python3.7/dist-packages (from -r /content/sample_data/requirements.txt (line 9)) (4.6.0.66)\n",
            "Requirement already satisfied: Pillow>=7.1.2 in /usr/local/lib/python3.7/dist-packages (from -r /content/sample_data/requirements.txt (line 10)) (7.1.2)\n",
            "Requirement already satisfied: psutil in /usr/local/lib/python3.7/dist-packages (from -r /content/sample_data/requirements.txt (line 11)) (5.4.8)\n",
            "Requirement already satisfied: PyYAML>=5.3.1 in /usr/local/lib/python3.7/dist-packages (from -r /content/sample_data/requirements.txt (line 12)) (6.0)\n",
            "Requirement already satisfied: requests>=2.23.0 in /usr/local/lib/python3.7/dist-packages (from -r /content/sample_data/requirements.txt (line 13)) (2.28.1)\n",
            "Requirement already satisfied: scipy>=1.4.1 in /usr/local/lib/python3.7/dist-packages (from -r /content/sample_data/requirements.txt (line 14)) (1.7.3)\n",
            "Requirement already satisfied: thop>=0.1.1 in /usr/local/lib/python3.7/dist-packages (from -r /content/sample_data/requirements.txt (line 15)) (0.1.1.post2209072238)\n",
            "Requirement already satisfied: torch>=1.7.0 in /usr/local/lib/python3.7/dist-packages (from -r /content/sample_data/requirements.txt (line 16)) (1.12.1+cu113)\n",
            "Requirement already satisfied: torchvision>=0.8.1 in /usr/local/lib/python3.7/dist-packages (from -r /content/sample_data/requirements.txt (line 17)) (0.13.1+cu113)\n",
            "Requirement already satisfied: tqdm>=4.64.0 in /usr/local/lib/python3.7/dist-packages (from -r /content/sample_data/requirements.txt (line 18)) (4.64.1)\n",
            "Requirement already satisfied: tensorboard>=2.4.1 in /usr/local/lib/python3.7/dist-packages (from -r /content/sample_data/requirements.txt (line 22)) (2.9.1)\n",
            "Requirement already satisfied: pandas>=1.1.4 in /usr/local/lib/python3.7/dist-packages (from -r /content/sample_data/requirements.txt (line 27)) (1.3.5)\n",
            "Requirement already satisfied: seaborn>=0.11.0 in /usr/local/lib/python3.7/dist-packages (from -r /content/sample_data/requirements.txt (line 28)) (0.11.2)\n",
            "Requirement already satisfied: roboflow in /usr/local/lib/python3.7/dist-packages (from -r /content/sample_data/requirements.txt (line 48)) (0.2.20)\n",
            "Collecting ultralytics\n",
            "  Downloading ultralytics-0.0.44-py3-none-any.whl (16 kB)\n",
            "Requirement already satisfied: pyparsing!=2.0.4,!=2.1.2,!=2.1.6,>=2.0.1 in /usr/local/lib/python3.7/dist-packages (from matplotlib>=3.2.2->-r /content/sample_data/requirements.txt (line 7)) (2.4.7)\n",
            "Requirement already satisfied: python-dateutil>=2.1 in /usr/local/lib/python3.7/dist-packages (from matplotlib>=3.2.2->-r /content/sample_data/requirements.txt (line 7)) (2.8.2)\n",
            "Requirement already satisfied: cycler>=0.10 in /usr/local/lib/python3.7/dist-packages (from matplotlib>=3.2.2->-r /content/sample_data/requirements.txt (line 7)) (0.10.0)\n",
            "Requirement already satisfied: kiwisolver>=1.0.1 in /usr/local/lib/python3.7/dist-packages (from matplotlib>=3.2.2->-r /content/sample_data/requirements.txt (line 7)) (1.4.4)\n",
            "Requirement already satisfied: charset-normalizer<3,>=2 in /usr/local/lib/python3.7/dist-packages (from requests>=2.23.0->-r /content/sample_data/requirements.txt (line 13)) (2.1.1)\n",
            "Requirement already satisfied: urllib3<1.27,>=1.21.1 in /usr/local/lib/python3.7/dist-packages (from requests>=2.23.0->-r /content/sample_data/requirements.txt (line 13)) (1.26.6)\n",
            "Requirement already satisfied: certifi>=2017.4.17 in /usr/local/lib/python3.7/dist-packages (from requests>=2.23.0->-r /content/sample_data/requirements.txt (line 13)) (2021.5.30)\n",
            "Requirement already satisfied: idna<4,>=2.5 in /usr/local/lib/python3.7/dist-packages (from requests>=2.23.0->-r /content/sample_data/requirements.txt (line 13)) (2.10)\n",
            "Requirement already satisfied: typing-extensions in /usr/local/lib/python3.7/dist-packages (from torch>=1.7.0->-r /content/sample_data/requirements.txt (line 16)) (4.1.1)\n",
            "Requirement already satisfied: wheel>=0.26 in /usr/local/lib/python3.7/dist-packages (from tensorboard>=2.4.1->-r /content/sample_data/requirements.txt (line 22)) (0.38.4)\n",
            "Requirement already satisfied: tensorboard-data-server<0.7.0,>=0.6.0 in /usr/local/lib/python3.7/dist-packages (from tensorboard>=2.4.1->-r /content/sample_data/requirements.txt (line 22)) (0.6.1)\n",
            "Requirement already satisfied: markdown>=2.6.8 in /usr/local/lib/python3.7/dist-packages (from tensorboard>=2.4.1->-r /content/sample_data/requirements.txt (line 22)) (3.4.1)\n",
            "Requirement already satisfied: tensorboard-plugin-wit>=1.6.0 in /usr/local/lib/python3.7/dist-packages (from tensorboard>=2.4.1->-r /content/sample_data/requirements.txt (line 22)) (1.8.1)\n",
            "Requirement already satisfied: setuptools>=41.0.0 in /usr/local/lib/python3.7/dist-packages (from tensorboard>=2.4.1->-r /content/sample_data/requirements.txt (line 22)) (57.4.0)\n",
            "Requirement already satisfied: grpcio>=1.24.3 in /usr/local/lib/python3.7/dist-packages (from tensorboard>=2.4.1->-r /content/sample_data/requirements.txt (line 22)) (1.50.0)\n",
            "Requirement already satisfied: protobuf<3.20,>=3.9.2 in /usr/local/lib/python3.7/dist-packages (from tensorboard>=2.4.1->-r /content/sample_data/requirements.txt (line 22)) (3.19.6)\n",
            "Requirement already satisfied: google-auth<3,>=1.6.3 in /usr/local/lib/python3.7/dist-packages (from tensorboard>=2.4.1->-r /content/sample_data/requirements.txt (line 22)) (2.14.1)\n",
            "Requirement already satisfied: absl-py>=0.4 in /usr/local/lib/python3.7/dist-packages (from tensorboard>=2.4.1->-r /content/sample_data/requirements.txt (line 22)) (1.3.0)\n",
            "Requirement already satisfied: werkzeug>=1.0.1 in /usr/local/lib/python3.7/dist-packages (from tensorboard>=2.4.1->-r /content/sample_data/requirements.txt (line 22)) (1.0.1)\n",
            "Requirement already satisfied: google-auth-oauthlib<0.5,>=0.4.1 in /usr/local/lib/python3.7/dist-packages (from tensorboard>=2.4.1->-r /content/sample_data/requirements.txt (line 22)) (0.4.6)\n",
            "Requirement already satisfied: pytz>=2017.3 in /usr/local/lib/python3.7/dist-packages (from pandas>=1.1.4->-r /content/sample_data/requirements.txt (line 27)) (2022.6)\n",
            "Requirement already satisfied: six in /usr/local/lib/python3.7/dist-packages (from cycler>=0.10->matplotlib>=3.2.2->-r /content/sample_data/requirements.txt (line 7)) (1.15.0)\n",
            "Requirement already satisfied: cachetools<6.0,>=2.0.0 in /usr/local/lib/python3.7/dist-packages (from google-auth<3,>=1.6.3->tensorboard>=2.4.1->-r /content/sample_data/requirements.txt (line 22)) (5.2.0)\n",
            "Requirement already satisfied: rsa<5,>=3.1.4 in /usr/local/lib/python3.7/dist-packages (from google-auth<3,>=1.6.3->tensorboard>=2.4.1->-r /content/sample_data/requirements.txt (line 22)) (4.9)\n",
            "Requirement already satisfied: pyasn1-modules>=0.2.1 in /usr/local/lib/python3.7/dist-packages (from google-auth<3,>=1.6.3->tensorboard>=2.4.1->-r /content/sample_data/requirements.txt (line 22)) (0.2.8)\n",
            "Requirement already satisfied: requests-oauthlib>=0.7.0 in /usr/local/lib/python3.7/dist-packages (from google-auth-oauthlib<0.5,>=0.4.1->tensorboard>=2.4.1->-r /content/sample_data/requirements.txt (line 22)) (1.3.1)\n",
            "Requirement already satisfied: importlib-metadata>=4.4 in /usr/local/lib/python3.7/dist-packages (from markdown>=2.6.8->tensorboard>=2.4.1->-r /content/sample_data/requirements.txt (line 22)) (4.13.0)\n",
            "Requirement already satisfied: zipp>=0.5 in /usr/local/lib/python3.7/dist-packages (from importlib-metadata>=4.4->markdown>=2.6.8->tensorboard>=2.4.1->-r /content/sample_data/requirements.txt (line 22)) (3.10.0)\n",
            "Requirement already satisfied: pyasn1<0.5.0,>=0.4.6 in /usr/local/lib/python3.7/dist-packages (from pyasn1-modules>=0.2.1->google-auth<3,>=1.6.3->tensorboard>=2.4.1->-r /content/sample_data/requirements.txt (line 22)) (0.4.8)\n",
            "Requirement already satisfied: oauthlib>=3.0.0 in /usr/local/lib/python3.7/dist-packages (from requests-oauthlib>=0.7.0->google-auth-oauthlib<0.5,>=0.4.1->tensorboard>=2.4.1->-r /content/sample_data/requirements.txt (line 22)) (3.2.2)\n",
            "Requirement already satisfied: gitdb<5,>=4.0.1 in /usr/local/lib/python3.7/dist-packages (from gitpython->-r /content/sample_data/requirements.txt (line 5)) (4.0.10)\n",
            "Requirement already satisfied: smmap<6,>=3.0.1 in /usr/local/lib/python3.7/dist-packages (from gitdb<5,>=4.0.1->gitpython->-r /content/sample_data/requirements.txt (line 5)) (5.0.0)\n",
            "Requirement already satisfied: pygments in /usr/local/lib/python3.7/dist-packages (from ipython->-r /content/sample_data/requirements.txt (line 6)) (2.6.1)\n",
            "Requirement already satisfied: prompt-toolkit<2.1.0,>=2.0.0 in /usr/local/lib/python3.7/dist-packages (from ipython->-r /content/sample_data/requirements.txt (line 6)) (2.0.10)\n",
            "Requirement already satisfied: pickleshare in /usr/local/lib/python3.7/dist-packages (from ipython->-r /content/sample_data/requirements.txt (line 6)) (0.7.5)\n",
            "Requirement already satisfied: backcall in /usr/local/lib/python3.7/dist-packages (from ipython->-r /content/sample_data/requirements.txt (line 6)) (0.2.0)\n",
            "Requirement already satisfied: pexpect in /usr/local/lib/python3.7/dist-packages (from ipython->-r /content/sample_data/requirements.txt (line 6)) (4.8.0)\n",
            "Requirement already satisfied: jedi>=0.10 in /usr/local/lib/python3.7/dist-packages (from ipython->-r /content/sample_data/requirements.txt (line 6)) (0.18.2)\n",
            "Requirement already satisfied: traitlets>=4.2 in /usr/local/lib/python3.7/dist-packages (from ipython->-r /content/sample_data/requirements.txt (line 6)) (5.1.1)\n",
            "Requirement already satisfied: decorator in /usr/local/lib/python3.7/dist-packages (from ipython->-r /content/sample_data/requirements.txt (line 6)) (4.4.2)\n",
            "Requirement already satisfied: parso<0.9.0,>=0.8.0 in /usr/local/lib/python3.7/dist-packages (from jedi>=0.10->ipython->-r /content/sample_data/requirements.txt (line 6)) (0.8.3)\n",
            "Requirement already satisfied: wcwidth in /usr/local/lib/python3.7/dist-packages (from prompt-toolkit<2.1.0,>=2.0.0->ipython->-r /content/sample_data/requirements.txt (line 6)) (0.2.5)\n",
            "Requirement already satisfied: wget in /usr/local/lib/python3.7/dist-packages (from roboflow->-r /content/sample_data/requirements.txt (line 48)) (3.2)\n",
            "Requirement already satisfied: requests-toolbelt in /usr/local/lib/python3.7/dist-packages (from roboflow->-r /content/sample_data/requirements.txt (line 48)) (0.10.1)\n",
            "Requirement already satisfied: python-dotenv in /usr/local/lib/python3.7/dist-packages (from roboflow->-r /content/sample_data/requirements.txt (line 48)) (0.21.0)\n",
            "Requirement already satisfied: chardet==4.0.0 in /usr/local/lib/python3.7/dist-packages (from roboflow->-r /content/sample_data/requirements.txt (line 48)) (4.0.0)\n",
            "Requirement already satisfied: opencv-python-headless>=4.5.1.48 in /usr/local/lib/python3.7/dist-packages (from roboflow->-r /content/sample_data/requirements.txt (line 48)) (4.6.0.66)\n",
            "Requirement already satisfied: glob2 in /usr/local/lib/python3.7/dist-packages (from roboflow->-r /content/sample_data/requirements.txt (line 48)) (0.7)\n",
            "Requirement already satisfied: ptyprocess>=0.5 in /usr/local/lib/python3.7/dist-packages (from pexpect->ipython->-r /content/sample_data/requirements.txt (line 6)) (0.7.0)\n",
            "Installing collected packages: ultralytics\n",
            "Successfully installed ultralytics-0.0.44\n"
          ]
        }
      ]
    },
    {
      "cell_type": "code",
      "source": [
        "%%writefile streamlit_app.py \n",
        "import cv2\n",
        "import numpy as np\n",
        "import pandas as pd\n",
        "#import streamlit as st\n",
        "\n",
        "import streamlit as st \n",
        "st.markdown(\"\"\" This is a Streamlit App \"\"\")\n",
        "\n",
        "uploaded_file = st.file_uploader(\"Choose a file\")\n",
        "if uploaded_file is not None:\n",
        "    file_bytes = np.asarray(bytearray(uploaded_file.read()), dtype=np.uint8)\n",
        "    opencv_image = cv2.imdecode(file_bytes, cv2.IMREAD_COLOR)\n",
        "\n",
        "    # Now do something with the image! For example, let's display it:\n",
        "    st.image(opencv_image, channels=\"BGR\")\n",
        "\n",
        "    # To read file as bytes:\n",
        "    #bytes_data = uploaded_file.getvalue()\n",
        "    #img = cv2.imread(\"uploaded_file\")\n",
        "    #gray = cv2.cvtColor(img, cv2.COLOR_BGR2RGB)\n",
        "    #st.write(bytes_data)\n",
        "    #!pip install -q roboflow\n",
        "    from roboflow import Roboflow\n",
        "    rf = Roboflow(api_key=\"X9dGHYzCX3ODnOoJl0Cn\")\n",
        "    project = rf.workspace().project(\"american-sign-language-letters-mjfzz\")\n",
        "    model = project.version(2).model\n",
        "\n",
        "# infer on a local image\n",
        "    #print(model.predict(\"uploaded_file\", confidence=40, overlap=30).json())\n",
        "\n",
        "# visualize your prediction\n",
        "    #model.predict(\"uploaded_file\", confidence=40, overlap=30).save(\"prediction.jpg\")\n",
        "    # To convert to a string based IO:\n",
        "    #stringio = StringIO(uploaded_file.getvalue().decode(\"utf-8\"))\n",
        "    #st.write(stringio)\n",
        "\n",
        "    # To read file as string:\n",
        "    #string_data = stringio.read()\n",
        "    #st.write(string_data)\n",
        "\n",
        "    # Can be used wherever a \"file-like\" object is accepted:\n",
        "    #dataframe = pd.read_csv(opencv_image)\n",
        "    #st.write(dataframe)\n",
        "    printPrediction=model.predict(opencv_image, confidence=40, overlap=30).json()\n",
        "    st.write(printPrediction)\n",
        "    #print(model.predict(\"https://detect.roboflow.com/american-sign-language-letters-mjfzz/2?\\\n",
        "    #api_key=X9dGHYzCX3ODnOoJl0Cn&\\image=ENCODED_IMAGE_URL\",confidence=40, overlap=30).json())\n",
        "    "
      ],
      "metadata": {
        "colab": {
          "base_uri": "https://localhost:8080/"
        },
        "id": "QQuicUDqoTqn",
        "outputId": "111389aa-409b-4fd2-8b25-e7fb7a04d75b"
      },
      "execution_count": 26,
      "outputs": [
        {
          "output_type": "stream",
          "name": "stdout",
          "text": [
            "Overwriting streamlit_app.py\n"
          ]
        }
      ]
    },
    {
      "cell_type": "code",
      "source": [
        "!streamlit run /content/streamlit_DFapp.py & npx localtunnel --port 8501"
      ],
      "metadata": {
        "colab": {
          "base_uri": "https://localhost:8080/"
        },
        "id": "XyzpAFr8fzds",
        "outputId": "105ba138-4e78-496e-a34b-38fcafa60b4a"
      },
      "execution_count": 38,
      "outputs": [
        {
          "output_type": "stream",
          "name": "stdout",
          "text": [
            "2022-11-24 07:39:12.312 INFO    numexpr.utils: NumExpr defaulting to 2 threads.\n",
            "[############......] - build:yargs: sill linkStuff yargs@17.1.1 is installed in\u001b[0m\u001b[K\n",
            "Collecting usage statistics. To deactivate, set browser.gatherUsageStats to False.\n",
            "\u001b[0m\n",
            "\u001b[K\u001b[?25hnpx: installed 22 in 2.11s\n",
            "\u001b[0m\n",
            "\u001b[34m\u001b[1m  You can now view your Streamlit app in your browser.\u001b[0m\n",
            "\u001b[0m\n",
            "\u001b[34m  Network URL: \u001b[0m\u001b[1mhttp://172.28.0.2:8501\u001b[0m\n",
            "\u001b[34m  External URL: \u001b[0m\u001b[1mhttp://34.86.224.168:8501\u001b[0m\n",
            "\u001b[0m\n",
            "your url is: https://cuddly-pots-live-34-86-224-168.loca.lt\n",
            "[ WARN:0@4.595] global /io/opencv/modules/imgcodecs/src/loadsave.cpp (239) findDecoder imread_('uploaded_file'): can't open/read file: check file path/integrity\n",
            "2022-11-24 07:39:41.602 Uncaught app exception\n",
            "Traceback (most recent call last):\n",
            "  File \"/usr/local/lib/python3.7/dist-packages/streamlit/runtime/scriptrunner/script_runner.py\", line 562, in _run_script\n",
            "    exec(code, module.__dict__)\n",
            "  File \"/content/streamlit_DFapp.py\", line 20, in <module>\n",
            "    gray = cv2.cvtColor(img, cv2.COLOR_BGR2RGB)\n",
            "cv2.error: OpenCV(4.6.0) /io/opencv/modules/imgproc/src/color.cpp:182: error: (-215:Assertion failed) !_src.empty() in function 'cvtColor'\n",
            "\n",
            "\u001b[34m  Stopping...\u001b[0m\n",
            "^C\n"
          ]
        }
      ]
    },
    {
      "cell_type": "code",
      "source": [
        "!streamlit run /content/streamlit_app.py & npx localtunnel --port 8501"
      ],
      "metadata": {
        "colab": {
          "base_uri": "https://localhost:8080/"
        },
        "id": "kn-mtqR6We1B",
        "outputId": "feb54e23-ed0f-4e9a-eea2-eb4e69cee94d"
      },
      "execution_count": 27,
      "outputs": [
        {
          "output_type": "stream",
          "name": "stdout",
          "text": [
            "2022-11-24 07:13:34.819 INFO    numexpr.utils: NumExpr defaulting to 2 threads.\n",
            "\u001b[K\u001b[?25hnpx: installed 22 in 1.988s\n",
            "\n",
            "Collecting usage statistics. To deactivate, set browser.gatherUsageStats to False.\n",
            "\u001b[0m\n",
            "\u001b[0m\n",
            "\u001b[34m\u001b[1m  You can now view your Streamlit app in your browser.\u001b[0m\n",
            "\u001b[0m\n",
            "\u001b[34m  Network URL: \u001b[0m\u001b[1mhttp://172.28.0.2:8501\u001b[0m\n",
            "\u001b[34m  External URL: \u001b[0m\u001b[1mhttp://34.86.224.168:8501\u001b[0m\n",
            "\u001b[0m\n",
            "your url is: https://spotty-mice-arrive-34-86-224-168.loca.lt\n",
            "loading Roboflow workspace...\n",
            "loading Roboflow project...\n",
            "2022-11-24 07:15:07.959 Uncaught app exception\n",
            "Traceback (most recent call last):\n",
            "  File \"/usr/local/lib/python3.7/dist-packages/streamlit/runtime/scriptrunner/script_runner.py\", line 562, in _run_script\n",
            "    exec(code, module.__dict__)\n",
            "  File \"/content/streamlit_app.py\", line 42, in <module>\n",
            "    dataframe = pd.read_csv(opencv_image)\n",
            "  File \"/usr/local/lib/python3.7/dist-packages/pandas/util/_decorators.py\", line 311, in wrapper\n",
            "    return func(*args, **kwargs)\n",
            "  File \"/usr/local/lib/python3.7/dist-packages/pandas/io/parsers/readers.py\", line 586, in read_csv\n",
            "    return _read(filepath_or_buffer, kwds)\n",
            "  File \"/usr/local/lib/python3.7/dist-packages/pandas/io/parsers/readers.py\", line 482, in _read\n",
            "    parser = TextFileReader(filepath_or_buffer, **kwds)\n",
            "  File \"/usr/local/lib/python3.7/dist-packages/pandas/io/parsers/readers.py\", line 811, in __init__\n",
            "    self._engine = self._make_engine(self.engine)\n",
            "  File \"/usr/local/lib/python3.7/dist-packages/pandas/io/parsers/readers.py\", line 1040, in _make_engine\n",
            "    return mapping[engine](self.f, **self.options)  # type: ignore[call-arg]\n",
            "  File \"/usr/local/lib/python3.7/dist-packages/pandas/io/parsers/c_parser_wrapper.py\", line 51, in __init__\n",
            "    self._open_handles(src, kwds)\n",
            "  File \"/usr/local/lib/python3.7/dist-packages/pandas/io/parsers/base_parser.py\", line 229, in _open_handles\n",
            "    errors=kwds.get(\"encoding_errors\", \"strict\"),\n",
            "  File \"/usr/local/lib/python3.7/dist-packages/pandas/io/common.py\", line 614, in get_handle\n",
            "    storage_options=storage_options,\n",
            "  File \"/usr/local/lib/python3.7/dist-packages/pandas/io/common.py\", line 396, in _get_filepath_or_buffer\n",
            "    raise ValueError(msg)\n",
            "ValueError: Invalid file path or buffer object type: <class 'numpy.ndarray'>\n",
            "\u001b[34m  Stopping...\u001b[0m\n",
            "^C\n"
          ]
        }
      ]
    },
    {
      "cell_type": "code",
      "source": [
        "%%writefile streamlit_MPapp.py \n",
        "import streamlit as st \n",
        "st.markdown(\"\"\" This is a Streamlit App \"\"\")\n",
        "print(model.predict(\"https://detect.roboflow.com/american-sign-language-letters-mjfzz/2?\\\n",
        "api_key=X9dGHYzCX3ODnOoJl0Cn&\\\n",
        "image=ENCODED_IMAGE_URL\",confidence=40, overlap=30).json())"
      ],
      "metadata": {
        "colab": {
          "base_uri": "https://localhost:8080/"
        },
        "id": "KYB1dzGa2vCN",
        "outputId": "087a5d1e-4a7f-40d7-b5a6-eda6a4efa421"
      },
      "execution_count": null,
      "outputs": [
        {
          "output_type": "stream",
          "name": "stdout",
          "text": [
            "Overwriting streamlit_app.py\n"
          ]
        }
      ]
    },
    {
      "cell_type": "code",
      "source": [
        "%%writefile streamlit_Papp.py \n",
        "import streamlit as st \n",
        "st.markdown(\"\"\" Abilities Infinite App \"\"\")\n",
        "#import streamlit as st\n",
        "from PIL import Image\n",
        "import matplotlib.pyplot as plt\n",
        "import tensorflow as tf\n",
        "import tensorflow_hub as hub\n",
        "import numpy as np\n",
        "from tensorflow.keras import preprocessing\n",
        "fig = plt.figure()\n",
        "\n",
        "st.header(\"Predict the sign\")\n",
        "def main():\n",
        "    file_uploaded = st.file_uploader(\"Choose File\", type=[\"png\",\"jpg\",\"jpeg\"])\n",
        "   \n",
        "    if file_uploaded is not None:    \n",
        "        image = Image.open(file_uploaded)\n",
        "        plt.imshow(image)\n",
        "        plt.axis(\"off\")\n",
        "        predictions = predict(image)\n",
        "        st.write(predictions)\n",
        "        st.pyplot(fig)\n",
        "        def predict(image):\n",
        "    #classifier_model = \"https://tfhub.dev/agripredict/disease-classification/1\"\n",
        "    #classifier_model=\"https://app.roboflow.com/ds/F21yW77cKG?key=IwpRscNoTb\"\n",
        "            classifier_model=\"https://app.roboflow.com/ds/F21yW77cKG?key=IwpRscNoTb\"\n",
        "            IMAGE_SHAPE = (300, 300,3)\n",
        "            model = tf.keras.Sequential([\n",
        "            hub.KerasLayer(classifier_model,input_shape=IMAGE_SHAPE)])\n",
        "            test_image = image.resize((300,300))\n",
        "            test_image = preprocessing.image.img_to_array(test_image)\n",
        "            test_image = test_image / 255.0\n",
        "            test_image = np.expand_dims(test_image, axis=0)\n",
        "            class_names = [\n",
        "            'A','B',\n",
        "            'C', \n",
        "            'D', \n",
        "            'E',\n",
        "            'F', \n",
        "            'G',\n",
        "            'H',\n",
        "            'I',\n",
        "            'J', \n",
        "            'K',\n",
        "            'L', \n",
        "            'M',\n",
        "            'N', \n",
        "            'O',\n",
        "            'P','Q','R',\n",
        "            'S',\n",
        "            'T', \n",
        "            'U', \n",
        "            'V',\n",
        "            'W', \n",
        "            'X',\n",
        "            'Y',\n",
        "            'Z']\n",
        "            predictions = model.predict(test_image)\n",
        "            scores = tf.nn.softmax(predictions[0])\n",
        "            scores = scores.numpy()\n",
        "            results = {\n",
        "            'A':0,\n",
        "            'B':1,\n",
        "            'C':2, \n",
        "            'D':3, \n",
        "            'E':4,\n",
        "            'F':5, \n",
        "            'G':6,\n",
        "            'H':7,\n",
        "            'I':8,\n",
        "            'J':9, \n",
        "            'K':10,\n",
        "            'L':11, \n",
        "            'M':12,\n",
        "            'N':13, \n",
        "            'O':14,\n",
        "            'P':15,'Q':16,'R':17,\n",
        "            'S':18,\n",
        "            'T':19, \n",
        "            'U':20, \n",
        "            'V':21,\n",
        "            'W':22, \n",
        "            'X':23,\n",
        "            'Y':24,\n",
        "            'Z':25\n",
        "}\n",
        "    # for index,value in enumerate(class_names):\n",
        "    #     results[value]= (scores[index]*100).round(2)\n",
        "    result = f\"{class_names[np.argmax(scores)]} with a { (100 * np.max(scores)).round(2) } percent confidence.\" \n",
        "    return result\n",
        "\n",
        "    #from roboflow import Roboflow\n",
        "    #rf = Roboflow(api_key=\"X9dGHYzCX3ODnOoJl0Cn\")\n",
        "    #project = rf.workspace().project(\"american-sign-language-letters-mjfzz\")\n",
        "    #classifier_model = project.version(2).model\n",
        "    \n",
        "\n",
        "if __name__ == \"__main__\":\n",
        "    main()\n"
      ],
      "metadata": {
        "id": "OBGjWFa58mxp",
        "colab": {
          "base_uri": "https://localhost:8080/"
        },
        "outputId": "66b8bb9b-878e-4f24-ee3e-dd1f2f13e33a"
      },
      "execution_count": null,
      "outputs": [
        {
          "output_type": "stream",
          "name": "stdout",
          "text": [
            "Overwriting streamlit_app.py\n"
          ]
        }
      ]
    },
    {
      "cell_type": "code",
      "source": [
        "from pyngrok import ngrok \n",
        "public_url = ngrok.connect(port=8501)\n",
        "public_url"
      ],
      "metadata": {
        "colab": {
          "base_uri": "https://localhost:8080/"
        },
        "id": "Ek5_hBtYpqUx",
        "outputId": "2acb2509-c8dc-4e72-a1dd-d3d59a0162fb"
      },
      "execution_count": null,
      "outputs": [
        {
          "output_type": "execute_result",
          "data": {
            "text/plain": [
              "<NgrokTunnel: \"http://65af-35-245-20-159.ngrok.io\" -> \"http://localhost:80\">"
            ]
          },
          "metadata": {},
          "execution_count": 5
        }
      ]
    },
    {
      "cell_type": "code",
      "source": [
        "!streamlit run streamlit_app.py & npx localtunnel --port 8501"
      ],
      "metadata": {
        "colab": {
          "base_uri": "https://localhost:8080/"
        },
        "id": "4NmyOvwtoaME",
        "outputId": "d754c426-2f6b-49a0-c424-05ddf05321e4"
      },
      "execution_count": null,
      "outputs": [
        {
          "output_type": "stream",
          "name": "stdout",
          "text": [
            "2022-11-22 13:51:14.614 INFO    numexpr.utils: NumExpr defaulting to 2 threads.\n",
            "\u001b[K\u001b[?25hnpx: installed 22 in 2.397s\n",
            "\n",
            "Collecting usage statistics. To deactivate, set browser.gatherUsageStats to False.\n",
            "\u001b[0m\n",
            "\u001b[0m\n",
            "\u001b[34m\u001b[1m  You can now view your Streamlit app in your browser.\u001b[0m\n",
            "\u001b[0m\n",
            "\u001b[34m  Network URL: \u001b[0m\u001b[1mhttp://172.28.0.2:8501\u001b[0m\n",
            "\u001b[34m  External URL: \u001b[0m\u001b[1mhttp://35.245.20.159:8501\u001b[0m\n",
            "\u001b[0m\n",
            "your url is: https://cold-bugs-switch-35-245-20-159.loca.lt\n",
            "Using cache found in /root/.cache/torch/hub/ultralytics_yolov5_master\n",
            "YOLOv5 🚀 2022-11-22 Python-3.7.15 torch-1.12.1+cu113 CPU\n",
            "\n",
            "Fusing layers... \n",
            "YOLOv5s summary: 213 layers, 7225885 parameters, 0 gradients\n",
            "Adding AutoShape... \n",
            "2022-11-22 13:51:34.267 Uncaught app exception\n",
            "Traceback (most recent call last):\n",
            "  File \"/usr/local/lib/python3.7/dist-packages/streamlit/runtime/scriptrunner/script_runner.py\", line 562, in _run_script\n",
            "    exec(code, module.__dict__)\n",
            "  File \"/content/streamlit_app.py\", line 37, in <module>\n",
            "    main()\n",
            "  File \"/content/streamlit_app.py\", line 20, in main\n",
            "    print(model.predict(image, confidence=40, overlap=30).json())\n",
            "  File \"/usr/local/lib/python3.7/dist-packages/torch/nn/modules/module.py\", line 1208, in __getattr__\n",
            "    type(self).__name__, name))\n",
            "AttributeError: 'AutoShape' object has no attribute 'predict'\n",
            "\u001b[34m  Stopping...\u001b[0m\n",
            "^C\n"
          ]
        }
      ]
    },
    {
      "cell_type": "code",
      "source": [
        "%%writefile streamlit_app.py \n",
        "import streamlit as st \n",
        "st.markdown(\"\"\" Abilities Infinite App \"\"\")\n",
        "import cv2\n",
        "import torch\n",
        "from PIL import Image\n",
        "\n",
        "# Model\n",
        "model = torch.hub.load('ultralytics/yolov5', 'yolov5s')\n",
        "\n",
        "# Images\n",
        "for f in 'zidane.jpg', 'bus.jpg':\n",
        "    torch.hub.download_url_to_file('https://ultralytics.com/images/' + f, f)  # download 2 images\n",
        "im1 = Image.open('/SignA001.jpg')  # PIL image\n",
        "im2 = cv2.imread('/SignA001.jpg')[..., ::-1]  # OpenCV image (BGR to RGB)\n",
        "\n",
        "# Inference\n",
        "results = model([im1, im2], size=640) # batch of images\n",
        "\n",
        "# Results\n",
        "results.print()  \n",
        "results.save()  # or .show()\n",
        "\n",
        "results.xyxy[0]  # im1 predictions (tensor)\n",
        "results.pandas().xyxy[0]  # im1 predictions (pandas)\n",
        "#      xmin    ymin    xmax   ymax  confidence  class    name\n",
        "# 0  749.50   43.50  1148.0  704.5    0.874023      0  person\n",
        "# 1  433.50  433.50   517.5  714.5    0.687988     27     tie\n",
        "# 2  114.75  195.75  1095.0  708.0    0.624512      0  person\n",
        "# 3  986.00  304.00  1028.0  420.0    0.286865     27     tie\n"
      ],
      "metadata": {
        "id": "0n8LhhgkpvqP",
        "colab": {
          "base_uri": "https://localhost:8080/"
        },
        "outputId": "bca98480-fe25-4c75-aaff-ef6867f21da2"
      },
      "execution_count": null,
      "outputs": [
        {
          "output_type": "stream",
          "name": "stdout",
          "text": [
            "Overwriting streamlit_app.py\n"
          ]
        }
      ]
    },
    {
      "cell_type": "code",
      "source": [
        "%%writefile streamlit_app.py \n",
        "import streamlit as st \n",
        "st.markdown(\"\"\" Abilities Infinite App \"\"\")\n",
        "import cv2\n",
        "import torch\n",
        "from PIL import Image\n",
        "def main():\n",
        "\n",
        "\n",
        "  file_uploaded = st.file_uploader(\"Choose File\", type=[\"png\",\"jpg\",\"jpeg\"])\n",
        "   \n",
        "  if file_uploaded is not None:    \n",
        "      image = Image.open(file_uploaded)\n",
        "      #plt.imshow(image)\n",
        "      #plt.axis(\"off\")\n",
        "      #predictions = predict(image)\n",
        "      #st.write(predictions)\n",
        "      #st.pyplot(fig)\n",
        "  # Model\n",
        "      model = torch.hub.load('ultralytics/yolov5', 'yolov5s')\n",
        "      print(model.predict(image, confidence=40, overlap=30).json())\n",
        "# Images\n",
        "      #for f in 'zidane.jpg', 'bus.jpg':\n",
        "         #torch.hub.download_url_to_file('https://ultralytics.com/images/' + f, f)  # download 2 images\n",
        "      #im1 = Image.open(file_uploaded)  # PIL image\n",
        "      #im2 = cv2.imread(file_uploaded)[..., ::-1]  # OpenCV image (BGR to RGB)\n",
        "\n",
        "# Inference\n",
        "      #results = model([im1, im2], size=640) # batch of images\n",
        "\n",
        "# Results\n",
        "      #results.print()  \n",
        "      #results.save()  # or .show()\n",
        "\n",
        "      #results.xyxy[0]  # im1 predictions (tensor)\n",
        "      #results.pandas().xyxy[0]  # im1 predictions (pandas)\n",
        "if __name__ == \"__main__\":\n",
        "     main()\n",
        "\n",
        "  "
      ],
      "metadata": {
        "colab": {
          "base_uri": "https://localhost:8080/"
        },
        "id": "HbdRMSHyf3-_",
        "outputId": "de981945-4ee1-4652-dce9-bf8ca2f683e0"
      },
      "execution_count": null,
      "outputs": [
        {
          "output_type": "stream",
          "name": "stdout",
          "text": [
            "Overwriting streamlit_app.py\n"
          ]
        }
      ]
    },
    {
      "cell_type": "code",
      "source": [
        "%%writefile streamlit_bytes_dataapp.py \n",
        "import cv2\n",
        "import numpy as np\n",
        "import pandas \n",
        "import torch\n",
        "#import streamlit as st\n",
        "\n",
        "import streamlit as st \n",
        "st.markdown(\"\"\" This is a Streamlit App \"\"\")\n",
        "uploaded_file = st.file_uploader(\"Choose a file\")\n",
        "if uploaded_file is not None:\n",
        "    file_bytes = np.asarray(bytearray(uploaded_file.read()), dtype=np.uint8)\n",
        "    opencv_image = cv2.imdecode(file_bytes, cv2.IMREAD_COLOR)\n",
        "\n",
        "    # Now do something with the image! For example, let's display it:\n",
        "    st.image(opencv_image, channels=\"BGR\")\n",
        "    \n",
        "    \n",
        "    from roboflow import Roboflow\n",
        "    rf = Roboflow(api_key=\"X9dGHYzCX3ODnOoJl0Cn\")\n",
        "    project = rf.workspace().project(\"american-sign-language-letters-mjfzz\")\n",
        "    model = project.version(2).model\n",
        "\n",
        "    printPrediction=model.predict(opencv_image, confidence=40, overlap=30).json()\n",
        "    st.write(printPrediction)\n",
        "    # visualize your prediction\n",
        "    preds = model.predict(opencv_image)[0]\n",
        "    (startX, startY, endX, endY) = preds\n",
        "\t# load the input image (in OpenCV format), resize it such that it\n",
        "\t# fits on our screen, and grab its dimensions\n",
        "\t  image = cv2.imread(imagePath)\n",
        "\t  image = imutils.resize(image, width=600)\n",
        "\t  (h, w) = image.shape[:2]\n",
        "\t# scale the predicted bounding box coordinates based on the image\n",
        "\t# dimensions\n",
        "\t  startX = int(startX * w)\n",
        "\t  startY = int(startY * h)\n",
        "\t  endX = int(endX * w)\n",
        "\t  endY = int(endY * h)\n",
        "\t# draw the predicted bounding box on the image\n",
        "\t  cv2.rectangle(image, (startX, startY), (endX, endY),(0, 255, 0), 2)\n",
        "\t# show the output image\n",
        "\t  cv2.imshow(\"Output\", image)\n",
        "    cv2.waitKey(0)\n",
        "    \n",
        "    \n",
        "    \n",
        "\n",
        "    \n",
        "    \n",
        "    \n",
        "    \n",
        "\n",
        "\n",
        "    \n",
        "\n",
        "    \n"
      ],
      "metadata": {
        "colab": {
          "base_uri": "https://localhost:8080/"
        },
        "id": "Lw3pB09f384F",
        "outputId": "bd4149e7-640b-4e79-be54-79483781cb7d"
      },
      "execution_count": 120,
      "outputs": [
        {
          "output_type": "stream",
          "name": "stdout",
          "text": [
            "Overwriting streamlit_bytes_dataapp.py\n"
          ]
        }
      ]
    },
    {
      "cell_type": "code",
      "source": [
        "!pip install imutils"
      ],
      "metadata": {
        "colab": {
          "base_uri": "https://localhost:8080/"
        },
        "id": "0GYjW9L5nN_-",
        "outputId": "79f8f0cd-7274-4650-f5b2-a769e9bce7cc"
      },
      "execution_count": 117,
      "outputs": [
        {
          "output_type": "stream",
          "name": "stdout",
          "text": [
            "Looking in indexes: https://pypi.org/simple, https://us-python.pkg.dev/colab-wheels/public/simple/\n",
            "Requirement already satisfied: imutils in /usr/local/lib/python3.7/dist-packages (0.5.4)\n"
          ]
        }
      ]
    },
    {
      "cell_type": "code",
      "source": [
        "!streamlit run /content/streamlit_bytes_dataapp.py & npx localtunnel --port 8501"
      ],
      "metadata": {
        "colab": {
          "base_uri": "https://localhost:8080/"
        },
        "id": "t-Q6zPQ_5p0o",
        "outputId": "529ad2f2-8a84-41dd-fd55-877e04742d27"
      },
      "execution_count": null,
      "outputs": [
        {
          "output_type": "stream",
          "name": "stdout",
          "text": [
            "2022-11-24 12:37:32.096 INFO    numexpr.utils: NumExpr defaulting to 2 threads.\n",
            "\u001b[K\u001b[?25hnpx: installed 22 in 2.092s\n",
            "\n",
            "Collecting usage statistics. To deactivate, set browser.gatherUsageStats to False.\n",
            "\u001b[0m\n",
            "your url is: https://solid-facts-attack-34-86-224-168.loca.lt\n",
            "\u001b[0m\n",
            "\u001b[34m\u001b[1m  You can now view your Streamlit app in your browser.\u001b[0m\n",
            "\u001b[0m\n",
            "\u001b[34m  Network URL: \u001b[0m\u001b[1mhttp://172.28.0.2:8501\u001b[0m\n",
            "\u001b[34m  External URL: \u001b[0m\u001b[1mhttp://34.86.224.168:8501\u001b[0m\n",
            "\u001b[0m\n"
          ]
        }
      ]
    },
    {
      "cell_type": "code",
      "source": [
        "%%writefile streamlit_stringio.py \n",
        "import cv2\n",
        "import numpy as np\n",
        "import pandas as pd\n",
        "import torch\n",
        "#import streamlit as st\n",
        "\n",
        "import streamlit as st \n",
        "st.markdown(\"\"\" This is a Streamlit App \"\"\")\n",
        "uploaded_file = st.file_uploader(\"Choose a file\")\n",
        "if uploaded_file is not None:\n",
        "    # To read file as bytes:\n",
        "    bytes_data = uploaded_file.getvalue()\n",
        "    st.write(bytes_data)\n",
        "    model = torch.hub.load(\"ultralytics/yolov5\", \"custom\", \"/content/yolov5s.pt\")\n",
        "\n",
        "    printPrediction=model.predict(opencv_image, confidence=40, overlap=30).json()\n",
        "    st.write(printPrediction)\n",
        "\n",
        "    # To convert to a string based IO:\n",
        "    #stringio = StringIO(uploaded_file.getvalue().decode(\"utf-8\"))\n",
        "    #st.write(stringio)\n",
        "\n",
        "    # To read file as string:\n",
        "    #string_data = stringio.read()\n",
        "    #st.write(string_data)\n",
        "\n",
        "    # Can be used wherever a \"file-like\" object is accepted:\n",
        "    #dataframe = pd.read_csv(uploaded_file)\n",
        "    #st.write(dataframe)\n"
      ],
      "metadata": {
        "id": "2bpLJklF83tW"
      },
      "execution_count": null,
      "outputs": []
    }
  ]
}